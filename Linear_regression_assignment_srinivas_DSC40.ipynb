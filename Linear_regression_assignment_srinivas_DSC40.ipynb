{
 "cells": [
  {
   "cell_type": "markdown",
   "id": "aafee4d4-3204-4d82-a67b-52a37bfd28a2",
   "metadata": {},
   "source": [
    "# Bike Sharing Assignment\n",
    "\n",
    "------- \n"
   ]
  },
  {
   "cell_type": "markdown",
   "id": "dc2a9635-cdde-4dc3-8311-05a80412d3ac",
   "metadata": {},
   "source": [
    "## Importing the necessary libraries"
   ]
  },
  {
   "cell_type": "code",
   "execution_count": 14,
   "id": "a56d79b6-e472-4fdb-863d-73ac931ea595",
   "metadata": {},
   "outputs": [],
   "source": [
    "#Warnings lib\n",
    "import warnings\n",
    "warnings.filterwarnings('ignore')"
   ]
  },
  {
   "cell_type": "code",
   "execution_count": 24,
   "id": "55f1fd95-6f5f-40a1-b0fd-2189e7f046e2",
   "metadata": {},
   "outputs": [],
   "source": [
    "## Importing the dataset libraries\n",
    "import pandas as pd\n",
    "import numpy as np\n",
    "pd.options.mode.chained_assignment = None"
   ]
  },
  {
   "cell_type": "code",
   "execution_count": 31,
   "id": "f45caf0e-1fb7-4018-920b-7d5504b52fa8",
   "metadata": {},
   "outputs": [],
   "source": [
    "## Visualize libraries\n",
    "import seaborn as sns\n",
    "import matplotlib.pyplot as plt\n",
    "\n",
    "\n",
    "import matplotlib.dates as mdates\n",
    "from matplotlib.dates import DateFormatter\n",
    "sns.set_style('ticks', {'axes.grid':True})"
   ]
  },
  {
   "cell_type": "code",
   "execution_count": 72,
   "id": "721c4648-c0fb-4123-bf5c-bb1aa9ebe233",
   "metadata": {},
   "outputs": [],
   "source": [
    "## Ml Libraries\n",
    "import sklearn\n",
    "from sklearn.model_selection import train_test_split\n",
    "from sklearn.preprocessing import MinMaxScaler\n",
    "from sklearn.metrics import r2_score\n",
    "\n",
    "from sklearn.preprocessing import MinMaxScaler\n",
    "\n",
    "# Importing RFE and LinearRegression\n",
    "from sklearn.feature_selection import RFE\n",
    "from sklearn.linear_model import LinearRegression\n",
    "\n",
    "import statsmodels.api as sm\n",
    "from statsmodels.stats.outliers_influence import variance_inflation_factor ## to calculate VIF"
   ]
  },
  {
   "cell_type": "markdown",
   "id": "8b10c0d0-92ce-4d01-9827-e0eb25e8869d",
   "metadata": {},
   "source": [
    "## Reading and Understanding the Data"
   ]
  },
  {
   "cell_type": "code",
   "execution_count": 17,
   "id": "2666b084-df22-4151-85be-2ed00a243dc5",
   "metadata": {},
   "outputs": [],
   "source": [
    "bike_data = pd.read_csv('day_1_use.csv')"
   ]
  },
  {
   "cell_type": "code",
   "execution_count": 18,
   "id": "d87f86ce-30bd-4a64-bd8e-2bbf516c0dfb",
   "metadata": {},
   "outputs": [
    {
     "data": {
      "text/plain": [
       "(730, 16)"
      ]
     },
     "execution_count": 18,
     "metadata": {},
     "output_type": "execute_result"
    }
   ],
   "source": [
    "bike_data.shape\n"
   ]
  },
  {
   "cell_type": "code",
   "execution_count": 19,
   "id": "ef846786-94d5-4f5a-9423-225ddc1f85f0",
   "metadata": {},
   "outputs": [
    {
     "data": {
      "text/html": [
       "<div>\n",
       "<style scoped>\n",
       "    .dataframe tbody tr th:only-of-type {\n",
       "        vertical-align: middle;\n",
       "    }\n",
       "\n",
       "    .dataframe tbody tr th {\n",
       "        vertical-align: top;\n",
       "    }\n",
       "\n",
       "    .dataframe thead th {\n",
       "        text-align: right;\n",
       "    }\n",
       "</style>\n",
       "<table border=\"1\" class=\"dataframe\">\n",
       "  <thead>\n",
       "    <tr style=\"text-align: right;\">\n",
       "      <th></th>\n",
       "      <th>instant</th>\n",
       "      <th>dteday</th>\n",
       "      <th>season</th>\n",
       "      <th>yr</th>\n",
       "      <th>mnth</th>\n",
       "      <th>holiday</th>\n",
       "      <th>weekday</th>\n",
       "      <th>workingday</th>\n",
       "      <th>weathersit</th>\n",
       "      <th>temp</th>\n",
       "      <th>atemp</th>\n",
       "      <th>hum</th>\n",
       "      <th>windspeed</th>\n",
       "      <th>casual</th>\n",
       "      <th>registered</th>\n",
       "      <th>cnt</th>\n",
       "    </tr>\n",
       "  </thead>\n",
       "  <tbody>\n",
       "    <tr>\n",
       "      <th>666</th>\n",
       "      <td>667</td>\n",
       "      <td>29-10-2019</td>\n",
       "      <td>4</td>\n",
       "      <td>1</td>\n",
       "      <td>10</td>\n",
       "      <td>0</td>\n",
       "      <td>2</td>\n",
       "      <td>1</td>\n",
       "      <td>3</td>\n",
       "      <td>18.040000</td>\n",
       "      <td>21.97000</td>\n",
       "      <td>88.0000</td>\n",
       "      <td>23.999400</td>\n",
       "      <td>2</td>\n",
       "      <td>20</td>\n",
       "      <td>22</td>\n",
       "    </tr>\n",
       "    <tr>\n",
       "      <th>700</th>\n",
       "      <td>701</td>\n",
       "      <td>02-12-2019</td>\n",
       "      <td>4</td>\n",
       "      <td>1</td>\n",
       "      <td>12</td>\n",
       "      <td>0</td>\n",
       "      <td>1</td>\n",
       "      <td>1</td>\n",
       "      <td>2</td>\n",
       "      <td>14.247500</td>\n",
       "      <td>17.96040</td>\n",
       "      <td>82.3333</td>\n",
       "      <td>8.333393</td>\n",
       "      <td>892</td>\n",
       "      <td>3757</td>\n",
       "      <td>4649</td>\n",
       "    </tr>\n",
       "    <tr>\n",
       "      <th>629</th>\n",
       "      <td>630</td>\n",
       "      <td>22-09-2019</td>\n",
       "      <td>3</td>\n",
       "      <td>1</td>\n",
       "      <td>9</td>\n",
       "      <td>0</td>\n",
       "      <td>0</td>\n",
       "      <td>0</td>\n",
       "      <td>1</td>\n",
       "      <td>26.650000</td>\n",
       "      <td>30.52440</td>\n",
       "      <td>64.6667</td>\n",
       "      <td>19.000061</td>\n",
       "      <td>2512</td>\n",
       "      <td>5883</td>\n",
       "      <td>8395</td>\n",
       "    </tr>\n",
       "    <tr>\n",
       "      <th>223</th>\n",
       "      <td>224</td>\n",
       "      <td>12-08-2018</td>\n",
       "      <td>3</td>\n",
       "      <td>0</td>\n",
       "      <td>8</td>\n",
       "      <td>0</td>\n",
       "      <td>0</td>\n",
       "      <td>0</td>\n",
       "      <td>1</td>\n",
       "      <td>29.041653</td>\n",
       "      <td>32.70210</td>\n",
       "      <td>41.5000</td>\n",
       "      <td>8.416607</td>\n",
       "      <td>1051</td>\n",
       "      <td>3854</td>\n",
       "      <td>4905</td>\n",
       "    </tr>\n",
       "    <tr>\n",
       "      <th>273</th>\n",
       "      <td>274</td>\n",
       "      <td>01-10-2018</td>\n",
       "      <td>4</td>\n",
       "      <td>0</td>\n",
       "      <td>10</td>\n",
       "      <td>0</td>\n",
       "      <td>1</td>\n",
       "      <td>1</td>\n",
       "      <td>2</td>\n",
       "      <td>16.810000</td>\n",
       "      <td>20.64315</td>\n",
       "      <td>75.3750</td>\n",
       "      <td>19.583832</td>\n",
       "      <td>480</td>\n",
       "      <td>1949</td>\n",
       "      <td>2429</td>\n",
       "    </tr>\n",
       "  </tbody>\n",
       "</table>\n",
       "</div>"
      ],
      "text/plain": [
       "     instant      dteday  season  yr  mnth  holiday  weekday  workingday  \\\n",
       "666      667  29-10-2019       4   1    10        0        2           1   \n",
       "700      701  02-12-2019       4   1    12        0        1           1   \n",
       "629      630  22-09-2019       3   1     9        0        0           0   \n",
       "223      224  12-08-2018       3   0     8        0        0           0   \n",
       "273      274  01-10-2018       4   0    10        0        1           1   \n",
       "\n",
       "     weathersit       temp     atemp      hum  windspeed  casual  registered  \\\n",
       "666           3  18.040000  21.97000  88.0000  23.999400       2          20   \n",
       "700           2  14.247500  17.96040  82.3333   8.333393     892        3757   \n",
       "629           1  26.650000  30.52440  64.6667  19.000061    2512        5883   \n",
       "223           1  29.041653  32.70210  41.5000   8.416607    1051        3854   \n",
       "273           2  16.810000  20.64315  75.3750  19.583832     480        1949   \n",
       "\n",
       "      cnt  \n",
       "666    22  \n",
       "700  4649  \n",
       "629  8395  \n",
       "223  4905  \n",
       "273  2429  "
      ]
     },
     "execution_count": 19,
     "metadata": {},
     "output_type": "execute_result"
    }
   ],
   "source": [
    "bike_data.sample(5)"
   ]
  },
  {
   "cell_type": "code",
   "execution_count": 20,
   "id": "2b00b5b7-ce07-43a6-850e-2823fb132621",
   "metadata": {},
   "outputs": [
    {
     "name": "stdout",
     "output_type": "stream",
     "text": [
      "<class 'pandas.core.frame.DataFrame'>\n",
      "RangeIndex: 730 entries, 0 to 729\n",
      "Data columns (total 16 columns):\n",
      " #   Column      Non-Null Count  Dtype  \n",
      "---  ------      --------------  -----  \n",
      " 0   instant     730 non-null    int64  \n",
      " 1   dteday      730 non-null    object \n",
      " 2   season      730 non-null    int64  \n",
      " 3   yr          730 non-null    int64  \n",
      " 4   mnth        730 non-null    int64  \n",
      " 5   holiday     730 non-null    int64  \n",
      " 6   weekday     730 non-null    int64  \n",
      " 7   workingday  730 non-null    int64  \n",
      " 8   weathersit  730 non-null    int64  \n",
      " 9   temp        730 non-null    float64\n",
      " 10  atemp       730 non-null    float64\n",
      " 11  hum         730 non-null    float64\n",
      " 12  windspeed   730 non-null    float64\n",
      " 13  casual      730 non-null    int64  \n",
      " 14  registered  730 non-null    int64  \n",
      " 15  cnt         730 non-null    int64  \n",
      "dtypes: float64(4), int64(11), object(1)\n",
      "memory usage: 91.4+ KB\n"
     ]
    }
   ],
   "source": [
    "bike_data.info()"
   ]
  },
  {
   "cell_type": "code",
   "execution_count": 21,
   "id": "51197082-8bc6-4e9d-90b3-5b94d3162008",
   "metadata": {},
   "outputs": [
    {
     "data": {
      "text/html": [
       "<div>\n",
       "<style scoped>\n",
       "    .dataframe tbody tr th:only-of-type {\n",
       "        vertical-align: middle;\n",
       "    }\n",
       "\n",
       "    .dataframe tbody tr th {\n",
       "        vertical-align: top;\n",
       "    }\n",
       "\n",
       "    .dataframe thead th {\n",
       "        text-align: right;\n",
       "    }\n",
       "</style>\n",
       "<table border=\"1\" class=\"dataframe\">\n",
       "  <thead>\n",
       "    <tr style=\"text-align: right;\">\n",
       "      <th></th>\n",
       "      <th>instant</th>\n",
       "      <th>season</th>\n",
       "      <th>yr</th>\n",
       "      <th>mnth</th>\n",
       "      <th>holiday</th>\n",
       "      <th>weekday</th>\n",
       "      <th>workingday</th>\n",
       "      <th>weathersit</th>\n",
       "      <th>temp</th>\n",
       "      <th>atemp</th>\n",
       "      <th>hum</th>\n",
       "      <th>windspeed</th>\n",
       "      <th>casual</th>\n",
       "      <th>registered</th>\n",
       "      <th>cnt</th>\n",
       "    </tr>\n",
       "  </thead>\n",
       "  <tbody>\n",
       "    <tr>\n",
       "      <th>count</th>\n",
       "      <td>730.000000</td>\n",
       "      <td>730.000000</td>\n",
       "      <td>730.000000</td>\n",
       "      <td>730.000000</td>\n",
       "      <td>730.000000</td>\n",
       "      <td>730.000000</td>\n",
       "      <td>730.000000</td>\n",
       "      <td>730.000000</td>\n",
       "      <td>730.000000</td>\n",
       "      <td>730.000000</td>\n",
       "      <td>730.000000</td>\n",
       "      <td>730.000000</td>\n",
       "      <td>730.000000</td>\n",
       "      <td>730.000000</td>\n",
       "      <td>730.000000</td>\n",
       "    </tr>\n",
       "    <tr>\n",
       "      <th>mean</th>\n",
       "      <td>365.500000</td>\n",
       "      <td>2.498630</td>\n",
       "      <td>0.500000</td>\n",
       "      <td>6.526027</td>\n",
       "      <td>0.028767</td>\n",
       "      <td>2.995890</td>\n",
       "      <td>0.690411</td>\n",
       "      <td>1.394521</td>\n",
       "      <td>20.319259</td>\n",
       "      <td>23.726322</td>\n",
       "      <td>62.765175</td>\n",
       "      <td>12.763620</td>\n",
       "      <td>849.249315</td>\n",
       "      <td>3658.757534</td>\n",
       "      <td>4508.006849</td>\n",
       "    </tr>\n",
       "    <tr>\n",
       "      <th>std</th>\n",
       "      <td>210.877136</td>\n",
       "      <td>1.110184</td>\n",
       "      <td>0.500343</td>\n",
       "      <td>3.450215</td>\n",
       "      <td>0.167266</td>\n",
       "      <td>2.000339</td>\n",
       "      <td>0.462641</td>\n",
       "      <td>0.544807</td>\n",
       "      <td>7.506729</td>\n",
       "      <td>8.150308</td>\n",
       "      <td>14.237589</td>\n",
       "      <td>5.195841</td>\n",
       "      <td>686.479875</td>\n",
       "      <td>1559.758728</td>\n",
       "      <td>1936.011647</td>\n",
       "    </tr>\n",
       "    <tr>\n",
       "      <th>min</th>\n",
       "      <td>1.000000</td>\n",
       "      <td>1.000000</td>\n",
       "      <td>0.000000</td>\n",
       "      <td>1.000000</td>\n",
       "      <td>0.000000</td>\n",
       "      <td>0.000000</td>\n",
       "      <td>0.000000</td>\n",
       "      <td>1.000000</td>\n",
       "      <td>2.424346</td>\n",
       "      <td>3.953480</td>\n",
       "      <td>0.000000</td>\n",
       "      <td>1.500244</td>\n",
       "      <td>2.000000</td>\n",
       "      <td>20.000000</td>\n",
       "      <td>22.000000</td>\n",
       "    </tr>\n",
       "    <tr>\n",
       "      <th>25%</th>\n",
       "      <td>183.250000</td>\n",
       "      <td>2.000000</td>\n",
       "      <td>0.000000</td>\n",
       "      <td>4.000000</td>\n",
       "      <td>0.000000</td>\n",
       "      <td>1.000000</td>\n",
       "      <td>0.000000</td>\n",
       "      <td>1.000000</td>\n",
       "      <td>13.811885</td>\n",
       "      <td>16.889713</td>\n",
       "      <td>52.000000</td>\n",
       "      <td>9.041650</td>\n",
       "      <td>316.250000</td>\n",
       "      <td>2502.250000</td>\n",
       "      <td>3169.750000</td>\n",
       "    </tr>\n",
       "    <tr>\n",
       "      <th>50%</th>\n",
       "      <td>365.500000</td>\n",
       "      <td>3.000000</td>\n",
       "      <td>0.500000</td>\n",
       "      <td>7.000000</td>\n",
       "      <td>0.000000</td>\n",
       "      <td>3.000000</td>\n",
       "      <td>1.000000</td>\n",
       "      <td>1.000000</td>\n",
       "      <td>20.465826</td>\n",
       "      <td>24.368225</td>\n",
       "      <td>62.625000</td>\n",
       "      <td>12.125325</td>\n",
       "      <td>717.000000</td>\n",
       "      <td>3664.500000</td>\n",
       "      <td>4548.500000</td>\n",
       "    </tr>\n",
       "    <tr>\n",
       "      <th>75%</th>\n",
       "      <td>547.750000</td>\n",
       "      <td>3.000000</td>\n",
       "      <td>1.000000</td>\n",
       "      <td>10.000000</td>\n",
       "      <td>0.000000</td>\n",
       "      <td>5.000000</td>\n",
       "      <td>1.000000</td>\n",
       "      <td>2.000000</td>\n",
       "      <td>26.880615</td>\n",
       "      <td>30.445775</td>\n",
       "      <td>72.989575</td>\n",
       "      <td>15.625589</td>\n",
       "      <td>1096.500000</td>\n",
       "      <td>4783.250000</td>\n",
       "      <td>5966.000000</td>\n",
       "    </tr>\n",
       "    <tr>\n",
       "      <th>max</th>\n",
       "      <td>730.000000</td>\n",
       "      <td>4.000000</td>\n",
       "      <td>1.000000</td>\n",
       "      <td>12.000000</td>\n",
       "      <td>1.000000</td>\n",
       "      <td>6.000000</td>\n",
       "      <td>1.000000</td>\n",
       "      <td>3.000000</td>\n",
       "      <td>35.328347</td>\n",
       "      <td>42.044800</td>\n",
       "      <td>97.250000</td>\n",
       "      <td>34.000021</td>\n",
       "      <td>3410.000000</td>\n",
       "      <td>6946.000000</td>\n",
       "      <td>8714.000000</td>\n",
       "    </tr>\n",
       "  </tbody>\n",
       "</table>\n",
       "</div>"
      ],
      "text/plain": [
       "          instant      season          yr        mnth     holiday     weekday  \\\n",
       "count  730.000000  730.000000  730.000000  730.000000  730.000000  730.000000   \n",
       "mean   365.500000    2.498630    0.500000    6.526027    0.028767    2.995890   \n",
       "std    210.877136    1.110184    0.500343    3.450215    0.167266    2.000339   \n",
       "min      1.000000    1.000000    0.000000    1.000000    0.000000    0.000000   \n",
       "25%    183.250000    2.000000    0.000000    4.000000    0.000000    1.000000   \n",
       "50%    365.500000    3.000000    0.500000    7.000000    0.000000    3.000000   \n",
       "75%    547.750000    3.000000    1.000000   10.000000    0.000000    5.000000   \n",
       "max    730.000000    4.000000    1.000000   12.000000    1.000000    6.000000   \n",
       "\n",
       "       workingday  weathersit        temp       atemp         hum   windspeed  \\\n",
       "count  730.000000  730.000000  730.000000  730.000000  730.000000  730.000000   \n",
       "mean     0.690411    1.394521   20.319259   23.726322   62.765175   12.763620   \n",
       "std      0.462641    0.544807    7.506729    8.150308   14.237589    5.195841   \n",
       "min      0.000000    1.000000    2.424346    3.953480    0.000000    1.500244   \n",
       "25%      0.000000    1.000000   13.811885   16.889713   52.000000    9.041650   \n",
       "50%      1.000000    1.000000   20.465826   24.368225   62.625000   12.125325   \n",
       "75%      1.000000    2.000000   26.880615   30.445775   72.989575   15.625589   \n",
       "max      1.000000    3.000000   35.328347   42.044800   97.250000   34.000021   \n",
       "\n",
       "            casual   registered          cnt  \n",
       "count   730.000000   730.000000   730.000000  \n",
       "mean    849.249315  3658.757534  4508.006849  \n",
       "std     686.479875  1559.758728  1936.011647  \n",
       "min       2.000000    20.000000    22.000000  \n",
       "25%     316.250000  2502.250000  3169.750000  \n",
       "50%     717.000000  3664.500000  4548.500000  \n",
       "75%    1096.500000  4783.250000  5966.000000  \n",
       "max    3410.000000  6946.000000  8714.000000  "
      ]
     },
     "execution_count": 21,
     "metadata": {},
     "output_type": "execute_result"
    }
   ],
   "source": [
    "bike_data.describe()"
   ]
  },
  {
   "cell_type": "code",
   "execution_count": 26,
   "id": "9f2d954a-8746-496c-ae85-33d23d3c8ba3",
   "metadata": {},
   "outputs": [],
   "source": [
    "### Removing unnecesary columns\n",
    "bike_data.drop(['instant','casual','registered'], axis = 1, inplace = True)\n",
    "\n",
    "## Instant - Because it is just for row numbering\n",
    "## casual and registered - As our Target variable is sum of these two, hence, keeping it will create multi-collinearity issue."
   ]
  },
  {
   "cell_type": "code",
   "execution_count": 27,
   "id": "99ac738d-1641-4cc0-84af-6d475a613988",
   "metadata": {},
   "outputs": [
    {
     "data": {
      "text/html": [
       "<div>\n",
       "<style scoped>\n",
       "    .dataframe tbody tr th:only-of-type {\n",
       "        vertical-align: middle;\n",
       "    }\n",
       "\n",
       "    .dataframe tbody tr th {\n",
       "        vertical-align: top;\n",
       "    }\n",
       "\n",
       "    .dataframe thead th {\n",
       "        text-align: right;\n",
       "    }\n",
       "</style>\n",
       "<table border=\"1\" class=\"dataframe\">\n",
       "  <thead>\n",
       "    <tr style=\"text-align: right;\">\n",
       "      <th></th>\n",
       "      <th>dteday</th>\n",
       "      <th>season</th>\n",
       "      <th>yr</th>\n",
       "      <th>mnth</th>\n",
       "      <th>holiday</th>\n",
       "      <th>weekday</th>\n",
       "      <th>workingday</th>\n",
       "      <th>weathersit</th>\n",
       "      <th>temp</th>\n",
       "      <th>atemp</th>\n",
       "      <th>hum</th>\n",
       "      <th>windspeed</th>\n",
       "      <th>cnt</th>\n",
       "    </tr>\n",
       "  </thead>\n",
       "  <tbody>\n",
       "    <tr>\n",
       "      <th>0</th>\n",
       "      <td>01-01-2018</td>\n",
       "      <td>1</td>\n",
       "      <td>0</td>\n",
       "      <td>1</td>\n",
       "      <td>0</td>\n",
       "      <td>1</td>\n",
       "      <td>1</td>\n",
       "      <td>2</td>\n",
       "      <td>14.110847</td>\n",
       "      <td>18.18125</td>\n",
       "      <td>80.5833</td>\n",
       "      <td>10.749882</td>\n",
       "      <td>985</td>\n",
       "    </tr>\n",
       "    <tr>\n",
       "      <th>1</th>\n",
       "      <td>02-01-2018</td>\n",
       "      <td>1</td>\n",
       "      <td>0</td>\n",
       "      <td>1</td>\n",
       "      <td>0</td>\n",
       "      <td>2</td>\n",
       "      <td>1</td>\n",
       "      <td>2</td>\n",
       "      <td>14.902598</td>\n",
       "      <td>17.68695</td>\n",
       "      <td>69.6087</td>\n",
       "      <td>16.652113</td>\n",
       "      <td>801</td>\n",
       "    </tr>\n",
       "    <tr>\n",
       "      <th>2</th>\n",
       "      <td>03-01-2018</td>\n",
       "      <td>1</td>\n",
       "      <td>0</td>\n",
       "      <td>1</td>\n",
       "      <td>0</td>\n",
       "      <td>3</td>\n",
       "      <td>1</td>\n",
       "      <td>1</td>\n",
       "      <td>8.050924</td>\n",
       "      <td>9.47025</td>\n",
       "      <td>43.7273</td>\n",
       "      <td>16.636703</td>\n",
       "      <td>1349</td>\n",
       "    </tr>\n",
       "    <tr>\n",
       "      <th>3</th>\n",
       "      <td>04-01-2018</td>\n",
       "      <td>1</td>\n",
       "      <td>0</td>\n",
       "      <td>1</td>\n",
       "      <td>0</td>\n",
       "      <td>4</td>\n",
       "      <td>1</td>\n",
       "      <td>1</td>\n",
       "      <td>8.200000</td>\n",
       "      <td>10.60610</td>\n",
       "      <td>59.0435</td>\n",
       "      <td>10.739832</td>\n",
       "      <td>1562</td>\n",
       "    </tr>\n",
       "    <tr>\n",
       "      <th>4</th>\n",
       "      <td>05-01-2018</td>\n",
       "      <td>1</td>\n",
       "      <td>0</td>\n",
       "      <td>1</td>\n",
       "      <td>0</td>\n",
       "      <td>5</td>\n",
       "      <td>1</td>\n",
       "      <td>1</td>\n",
       "      <td>9.305237</td>\n",
       "      <td>11.46350</td>\n",
       "      <td>43.6957</td>\n",
       "      <td>12.522300</td>\n",
       "      <td>1600</td>\n",
       "    </tr>\n",
       "  </tbody>\n",
       "</table>\n",
       "</div>"
      ],
      "text/plain": [
       "       dteday  season  yr  mnth  holiday  weekday  workingday  weathersit  \\\n",
       "0  01-01-2018       1   0     1        0        1           1           2   \n",
       "1  02-01-2018       1   0     1        0        2           1           2   \n",
       "2  03-01-2018       1   0     1        0        3           1           1   \n",
       "3  04-01-2018       1   0     1        0        4           1           1   \n",
       "4  05-01-2018       1   0     1        0        5           1           1   \n",
       "\n",
       "        temp     atemp      hum  windspeed   cnt  \n",
       "0  14.110847  18.18125  80.5833  10.749882   985  \n",
       "1  14.902598  17.68695  69.6087  16.652113   801  \n",
       "2   8.050924   9.47025  43.7273  16.636703  1349  \n",
       "3   8.200000  10.60610  59.0435  10.739832  1562  \n",
       "4   9.305237  11.46350  43.6957  12.522300  1600  "
      ]
     },
     "execution_count": 27,
     "metadata": {},
     "output_type": "execute_result"
    }
   ],
   "source": [
    "bike_data.head()"
   ]
  },
  {
   "cell_type": "code",
   "execution_count": 35,
   "id": "9c39fab8-9587-4899-ad87-29073a17aff6",
   "metadata": {},
   "outputs": [],
   "source": [
    "## Changing the date format\n",
    "bike_data['dteday'] = pd.to_datetime(bike_data.dteday, dayfirst=True)"
   ]
  },
  {
   "cell_type": "code",
   "execution_count": 32,
   "id": "8d924449-7854-4f17-b3c4-bc56e0632b7c",
   "metadata": {},
   "outputs": [
    {
     "data": {
      "text/plain": [
       "Text(0, 0.5, 'Bike_rentals')"
      ]
     },
     "execution_count": 32,
     "metadata": {},
     "output_type": "execute_result"
    },
    {
     "data": {
      "image/png": "[encoded data removed]",
      "text/plain": [
       "<Figure size 1440x648 with 1 Axes>"
      ]
     },
     "metadata": {},
     "output_type": "display_data"
    }
   ],
   "source": [
    "# scatter plot between date, temp and cnt\n",
    "plt.figure(figsize=(20,9))\n",
    "p = sns.color_palette('coolwarm', as_cmap=True, n_colors=5)\n",
    "ax = sns.scatterplot(x=bike_data.dteday, y=bike_data.cnt, hue=bike_data.temp, hue_norm=(15,32),palette=p)\n",
    "ax.xaxis.set_major_formatter(DateFormatter('%b'))\n",
    "ax.xaxis.set_minor_locator(mdates.MonthLocator(interval=1))\n",
    "ax.legend(title='Temperature \\u2103') #u2103 --> degree-celsius\n",
    "ax.set_title(\"Monthly Bike rentals between 2018 and 2019\")\n",
    "ax.set_xlabel('Months')\n",
    "ax.set_ylabel('Bike_rentals')"
   ]
  },
  {
   "cell_type": "code",
   "execution_count": 42,
   "id": "76b5e4c4-a9b2-43a6-9afc-b024b131670c",
   "metadata": {},
   "outputs": [
    {
     "data": {
      "text/plain": [
       "<Figure size 360x288 with 0 Axes>"
      ]
     },
     "metadata": {},
     "output_type": "display_data"
    }
   ],
   "source": [
    "## Relation between categorical variables\n",
    "\n",
    "plt.figure(figsize=(5,4))\n",
    "def category_plots(attribute):\n",
    "    ax1 = bike_data.groupby(attribute).mean()['cnt'].plot.bar(color = 'black')\n",
    "    ax1.set_title('Renatals v/s {}'.format(attribute))\n",
    "    plt.tight_layout()\n",
    "    plt.show()\n",
    "\n"
   ]
  },
  {
   "cell_type": "code",
   "execution_count": 43,
   "id": "a928ba3e-a084-456c-89c1-1a07e94a2be3",
   "metadata": {},
   "outputs": [
    {
     "data": {
      "image/png": "[encoded data removed]",
      "text/plain": [
       "<Figure size 432x288 with 1 Axes>"
      ]
     },
     "metadata": {},
     "output_type": "display_data"
    }
   ],
   "source": [
    "## Rentals vs Count\n",
    "category_plots('weathersit')"
   ]
  },
  {
   "cell_type": "code",
   "execution_count": 44,
   "id": "09246642-3440-4a32-adea-73daf1c4d05c",
   "metadata": {},
   "outputs": [
    {
     "data": {
      "image/png": "[encoded data removed]",
      "text/plain": [
       "<Figure size 432x288 with 1 Axes>"
      ]
     },
     "metadata": {},
     "output_type": "display_data"
    }
   ],
   "source": [
    "## Rentals vs weekdays\n",
    "category_plots('weekday')"
   ]
  },
  {
   "cell_type": "code",
   "execution_count": 46,
   "id": "b895c6b6-5631-4a82-882a-9bef0a9fb2a7",
   "metadata": {},
   "outputs": [
    {
     "data": {
      "image/png": "[encoded data removed]",
      "text/plain": [
       "<Figure size 432x288 with 1 Axes>"
      ]
     },
     "metadata": {},
     "output_type": "display_data"
    }
   ],
   "source": [
    "## Rentals vs holidays\n",
    "category_plots('holiday')"
   ]
  },
  {
   "cell_type": "code",
   "execution_count": 47,
   "id": "042acf65-4018-42c7-b113-3d9367b99dc6",
   "metadata": {},
   "outputs": [
    {
     "data": {
      "text/html": [
       "<div>\n",
       "<style scoped>\n",
       "    .dataframe tbody tr th:only-of-type {\n",
       "        vertical-align: middle;\n",
       "    }\n",
       "\n",
       "    .dataframe tbody tr th {\n",
       "        vertical-align: top;\n",
       "    }\n",
       "\n",
       "    .dataframe thead th {\n",
       "        text-align: right;\n",
       "    }\n",
       "</style>\n",
       "<table border=\"1\" class=\"dataframe\">\n",
       "  <thead>\n",
       "    <tr style=\"text-align: right;\">\n",
       "      <th></th>\n",
       "      <th>season</th>\n",
       "      <th>yr</th>\n",
       "      <th>mnth</th>\n",
       "      <th>holiday</th>\n",
       "      <th>weekday</th>\n",
       "      <th>workingday</th>\n",
       "      <th>weathersit</th>\n",
       "      <th>temp</th>\n",
       "      <th>atemp</th>\n",
       "      <th>hum</th>\n",
       "      <th>windspeed</th>\n",
       "      <th>cnt</th>\n",
       "    </tr>\n",
       "  </thead>\n",
       "  <tbody>\n",
       "    <tr>\n",
       "      <th>season</th>\n",
       "      <td>1.000000e+00</td>\n",
       "      <td>-3.279074e-16</td>\n",
       "      <td>8.310321e-01</td>\n",
       "      <td>-0.010868</td>\n",
       "      <td>0.004012</td>\n",
       "      <td>0.017868</td>\n",
       "      <td>0.021306</td>\n",
       "      <td>0.333361</td>\n",
       "      <td>0.342014</td>\n",
       "      <td>0.208220</td>\n",
       "      <td>-0.229607</td>\n",
       "      <td>0.404584</td>\n",
       "    </tr>\n",
       "    <tr>\n",
       "      <th>yr</th>\n",
       "      <td>-3.279074e-16</td>\n",
       "      <td>1.000000e+00</td>\n",
       "      <td>-5.162656e-16</td>\n",
       "      <td>0.008195</td>\n",
       "      <td>0.000685</td>\n",
       "      <td>-0.011852</td>\n",
       "      <td>-0.050322</td>\n",
       "      <td>0.048789</td>\n",
       "      <td>0.047215</td>\n",
       "      <td>-0.112547</td>\n",
       "      <td>-0.011624</td>\n",
       "      <td>0.569728</td>\n",
       "    </tr>\n",
       "    <tr>\n",
       "      <th>mnth</th>\n",
       "      <td>8.310321e-01</td>\n",
       "      <td>-5.162656e-16</td>\n",
       "      <td>1.000000e+00</td>\n",
       "      <td>0.018905</td>\n",
       "      <td>-0.004059</td>\n",
       "      <td>-0.010414</td>\n",
       "      <td>0.045613</td>\n",
       "      <td>0.219083</td>\n",
       "      <td>0.226430</td>\n",
       "      <td>0.224937</td>\n",
       "      <td>-0.208013</td>\n",
       "      <td>0.278191</td>\n",
       "    </tr>\n",
       "    <tr>\n",
       "      <th>holiday</th>\n",
       "      <td>-1.086804e-02</td>\n",
       "      <td>8.195345e-03</td>\n",
       "      <td>1.890483e-02</td>\n",
       "      <td>1.000000</td>\n",
       "      <td>-0.020145</td>\n",
       "      <td>-0.257009</td>\n",
       "      <td>-0.034395</td>\n",
       "      <td>-0.028764</td>\n",
       "      <td>-0.032703</td>\n",
       "      <td>-0.015662</td>\n",
       "      <td>0.006257</td>\n",
       "      <td>-0.068764</td>\n",
       "    </tr>\n",
       "    <tr>\n",
       "      <th>weekday</th>\n",
       "      <td>4.012478e-03</td>\n",
       "      <td>6.852851e-04</td>\n",
       "      <td>-4.059002e-03</td>\n",
       "      <td>-0.020145</td>\n",
       "      <td>1.000000</td>\n",
       "      <td>0.001588</td>\n",
       "      <td>0.034216</td>\n",
       "      <td>0.044876</td>\n",
       "      <td>0.037964</td>\n",
       "      <td>0.008780</td>\n",
       "      <td>-0.017230</td>\n",
       "      <td>0.036183</td>\n",
       "    </tr>\n",
       "    <tr>\n",
       "      <th>workingday</th>\n",
       "      <td>1.786841e-02</td>\n",
       "      <td>-1.185197e-02</td>\n",
       "      <td>-1.041372e-02</td>\n",
       "      <td>-0.257009</td>\n",
       "      <td>0.001588</td>\n",
       "      <td>1.000000</td>\n",
       "      <td>-0.026332</td>\n",
       "      <td>0.002044</td>\n",
       "      <td>0.010657</td>\n",
       "      <td>0.053770</td>\n",
       "      <td>-0.002453</td>\n",
       "      <td>-0.027640</td>\n",
       "    </tr>\n",
       "    <tr>\n",
       "      <th>weathersit</th>\n",
       "      <td>2.130636e-02</td>\n",
       "      <td>-5.032247e-02</td>\n",
       "      <td>4.561335e-02</td>\n",
       "      <td>-0.034395</td>\n",
       "      <td>0.034216</td>\n",
       "      <td>-0.026332</td>\n",
       "      <td>1.000000</td>\n",
       "      <td>-0.119503</td>\n",
       "      <td>-0.120559</td>\n",
       "      <td>0.590277</td>\n",
       "      <td>0.039769</td>\n",
       "      <td>-0.295929</td>\n",
       "    </tr>\n",
       "    <tr>\n",
       "      <th>temp</th>\n",
       "      <td>3.333607e-01</td>\n",
       "      <td>4.878919e-02</td>\n",
       "      <td>2.190833e-01</td>\n",
       "      <td>-0.028764</td>\n",
       "      <td>0.044876</td>\n",
       "      <td>0.002044</td>\n",
       "      <td>-0.119503</td>\n",
       "      <td>1.000000</td>\n",
       "      <td>0.991696</td>\n",
       "      <td>0.128565</td>\n",
       "      <td>-0.158186</td>\n",
       "      <td>0.627044</td>\n",
       "    </tr>\n",
       "    <tr>\n",
       "      <th>atemp</th>\n",
       "      <td>3.420139e-01</td>\n",
       "      <td>4.721519e-02</td>\n",
       "      <td>2.264302e-01</td>\n",
       "      <td>-0.032703</td>\n",
       "      <td>0.037964</td>\n",
       "      <td>0.010657</td>\n",
       "      <td>-0.120559</td>\n",
       "      <td>0.991696</td>\n",
       "      <td>1.000000</td>\n",
       "      <td>0.141512</td>\n",
       "      <td>-0.183876</td>\n",
       "      <td>0.630685</td>\n",
       "    </tr>\n",
       "    <tr>\n",
       "      <th>hum</th>\n",
       "      <td>2.082196e-01</td>\n",
       "      <td>-1.125471e-01</td>\n",
       "      <td>2.249368e-01</td>\n",
       "      <td>-0.015662</td>\n",
       "      <td>0.008780</td>\n",
       "      <td>0.053770</td>\n",
       "      <td>0.590277</td>\n",
       "      <td>0.128565</td>\n",
       "      <td>0.141512</td>\n",
       "      <td>1.000000</td>\n",
       "      <td>-0.248506</td>\n",
       "      <td>-0.098543</td>\n",
       "    </tr>\n",
       "    <tr>\n",
       "      <th>windspeed</th>\n",
       "      <td>-2.296069e-01</td>\n",
       "      <td>-1.162435e-02</td>\n",
       "      <td>-2.080131e-01</td>\n",
       "      <td>0.006257</td>\n",
       "      <td>-0.017230</td>\n",
       "      <td>-0.002453</td>\n",
       "      <td>0.039769</td>\n",
       "      <td>-0.158186</td>\n",
       "      <td>-0.183876</td>\n",
       "      <td>-0.248506</td>\n",
       "      <td>1.000000</td>\n",
       "      <td>-0.235132</td>\n",
       "    </tr>\n",
       "    <tr>\n",
       "      <th>cnt</th>\n",
       "      <td>4.045838e-01</td>\n",
       "      <td>5.697285e-01</td>\n",
       "      <td>2.781909e-01</td>\n",
       "      <td>-0.068764</td>\n",
       "      <td>0.036183</td>\n",
       "      <td>-0.027640</td>\n",
       "      <td>-0.295929</td>\n",
       "      <td>0.627044</td>\n",
       "      <td>0.630685</td>\n",
       "      <td>-0.098543</td>\n",
       "      <td>-0.235132</td>\n",
       "      <td>1.000000</td>\n",
       "    </tr>\n",
       "  </tbody>\n",
       "</table>\n",
       "</div>"
      ],
      "text/plain": [
       "                  season            yr          mnth   holiday   weekday  \\\n",
       "season      1.000000e+00 -3.279074e-16  8.310321e-01 -0.010868  0.004012   \n",
       "yr         -3.279074e-16  1.000000e+00 -5.162656e-16  0.008195  0.000685   \n",
       "mnth        8.310321e-01 -5.162656e-16  1.000000e+00  0.018905 -0.004059   \n",
       "holiday    -1.086804e-02  8.195345e-03  1.890483e-02  1.000000 -0.020145   \n",
       "weekday     4.012478e-03  6.852851e-04 -4.059002e-03 -0.020145  1.000000   \n",
       "workingday  1.786841e-02 -1.185197e-02 -1.041372e-02 -0.257009  0.001588   \n",
       "weathersit  2.130636e-02 -5.032247e-02  4.561335e-02 -0.034395  0.034216   \n",
       "temp        3.333607e-01  4.878919e-02  2.190833e-01 -0.028764  0.044876   \n",
       "atemp       3.420139e-01  4.721519e-02  2.264302e-01 -0.032703  0.037964   \n",
       "hum         2.082196e-01 -1.125471e-01  2.249368e-01 -0.015662  0.008780   \n",
       "windspeed  -2.296069e-01 -1.162435e-02 -2.080131e-01  0.006257 -0.017230   \n",
       "cnt         4.045838e-01  5.697285e-01  2.781909e-01 -0.068764  0.036183   \n",
       "\n",
       "            workingday  weathersit      temp     atemp       hum  windspeed  \\\n",
       "season        0.017868    0.021306  0.333361  0.342014  0.208220  -0.229607   \n",
       "yr           -0.011852   -0.050322  0.048789  0.047215 -0.112547  -0.011624   \n",
       "mnth         -0.010414    0.045613  0.219083  0.226430  0.224937  -0.208013   \n",
       "holiday      -0.257009   -0.034395 -0.028764 -0.032703 -0.015662   0.006257   \n",
       "weekday       0.001588    0.034216  0.044876  0.037964  0.008780  -0.017230   \n",
       "workingday    1.000000   -0.026332  0.002044  0.010657  0.053770  -0.002453   \n",
       "weathersit   -0.026332    1.000000 -0.119503 -0.120559  0.590277   0.039769   \n",
       "temp          0.002044   -0.119503  1.000000  0.991696  0.128565  -0.158186   \n",
       "atemp         0.010657   -0.120559  0.991696  1.000000  0.141512  -0.183876   \n",
       "hum           0.053770    0.590277  0.128565  0.141512  1.000000  -0.248506   \n",
       "windspeed    -0.002453    0.039769 -0.158186 -0.183876 -0.248506   1.000000   \n",
       "cnt          -0.027640   -0.295929  0.627044  0.630685 -0.098543  -0.235132   \n",
       "\n",
       "                 cnt  \n",
       "season      0.404584  \n",
       "yr          0.569728  \n",
       "mnth        0.278191  \n",
       "holiday    -0.068764  \n",
       "weekday     0.036183  \n",
       "workingday -0.027640  \n",
       "weathersit -0.295929  \n",
       "temp        0.627044  \n",
       "atemp       0.630685  \n",
       "hum        -0.098543  \n",
       "windspeed  -0.235132  \n",
       "cnt         1.000000  "
      ]
     },
     "execution_count": 47,
     "metadata": {},
     "output_type": "execute_result"
    }
   ],
   "source": [
    "bike_data.corr()"
   ]
  },
  {
   "cell_type": "code",
   "execution_count": 56,
   "id": "4f0caa9c-f468-4c1d-a62c-788b7f64bcec",
   "metadata": {},
   "outputs": [
    {
     "data": {
      "image/png": "[encoded data removed]",
      "text/plain": [
       "<Figure size 1296x504 with 2 Axes>"
      ]
     },
     "metadata": {},
     "output_type": "display_data"
    }
   ],
   "source": [
    "corr = bike_data.corr()\n",
    "mask  = np.zeros_like(corr)\n",
    "mask[np.triu_indices_from(mask)] = True\n",
    "f, ax = plt.subplots(figsize=(18,7))\n",
    "with sns.axes_style('dark'):\n",
    "    ax = sns.heatmap(corr,mask=mask, vmax=1, vmin=-1,cmap='rocket_r', annot=True, annot_kws={'fontsize':9})"
   ]
  },
  {
   "cell_type": "markdown",
   "id": "ee400f39-f7ec-4de3-bbda-b6780d7240af",
   "metadata": {},
   "source": [
    "## Feature Selection"
   ]
  },
  {
   "cell_type": "markdown",
   "id": "a421d69e-c684-48df-aef7-39042d84bd3e",
   "metadata": {},
   "source": [
    "As we see there is a 0.99 of correlation betwwen `temp` and `atemp`.\n",
    "Hence, dropping `temp` as `atemp` is feeling temperature.\n",
    "\n",
    "</br>\n",
    "\n",
    "We will drop `temp` while building our model\n"
   ]
  },
  {
   "cell_type": "markdown",
   "id": "683129c7-0652-48ef-8769-4dff79c4f390",
   "metadata": {},
   "source": [
    "### User Defined Functions \n",
    "\n",
    "**Helper functions to aid in analysis**"
   ]
  },
  {
   "cell_type": "code",
   "execution_count": 110,
   "id": "8547ac23-3500-40a5-a4cd-f59f8bc07653",
   "metadata": {},
   "outputs": [],
   "source": [
    "## Function1 - To select the columns\n",
    "def drop_columns(to_drop, *df):\n",
    "    x = [i.drop(to_drop, axis='columns') for i in df]\n",
    "    if len(x) == 1: return x[0]\n",
    "    else: return x\n",
    "\n",
    "## Function2 - To Calculate VIF\n",
    "def calc_vif(df):\n",
    "    vif = pd.DataFrame()\n",
    "    vif['Features'] = vif.columns\n",
    "    vif['VIF'] = [variance_inflation_factor(df.values,i) for i in range(len(df.columns))]\n",
    "    vif['VIF'] = round(vif['VIF'],2)\n",
    "    return vif\n",
    "\n",
    "def add_constant(*df):\n",
    "## using 'add' flag to ensure SM does not treat columns with \n",
    "## same value like 'yr' as constant for certain slices of test-train set.\n",
    "    x = [sm.add_constant(i, has_constant='add') for i in df]\n",
    "    if len(x) == 1: return x[0]\n",
    "    else: return x\n",
    "\n",
    "\n",
    "def summary_with_vif(lr_SM_model):\n",
    "    \"\"\"\n",
    "    Note: This function assumes that the following variables are already defined:\n",
    "    'X_train_sm', 'X_test_sm', 'y_test'\n",
    "    \"\"\"\n",
    "    vif_df = VIF(X_train_sm)\n",
    "    line = '-'*10\n",
    "    additions = [(9, line),\n",
    "                 (10, '     VIF'),\n",
    "                 (11,  line)]\n",
    "    summary = str(lr_SM_model.summary2()).splitlines()\n",
    "    # feature names start from 13th line, \n",
    "    for i, string in enumerate(summary[12:]):\n",
    "        if '-'*60 in string: #if the line has a long series of '-', thats end of feature list\n",
    "            additions.append((12+i, line))\n",
    "            break\n",
    "        feature = string.split()[0]\n",
    "        vif = vif_df[vif_df['Features']==feature].VIF.round(2)\n",
    "        additions.append((12+i, '   '+str(vif.item())))\n",
    "    \n",
    "    for index, value in additions:\n",
    "        summary[index] += value\n",
    "        \n",
    "    print('\\n'.join(summary))\n",
    "    y_test_pred = lr_SM_model.predict(X_test_sm)\n",
    "    r2_test = r2_score(y_test, y_test_pred).round(3)\n",
    "    display(Latex(f'$R^{{2}}_{{train}}={lr_SM_model.rsquared.round(3)},\\ R^{{2}}_{{test}}={r2_test}$'))\n"
   ]
  },
  {
   "cell_type": "markdown",
   "id": "d49dfae0-1d79-4152-a9cc-edd88728575b",
   "metadata": {},
   "source": [
    " ### Train Test Split"
   ]
  },
  {
   "cell_type": "code",
   "execution_count": 73,
   "id": "e671d943-c2e1-4642-ac91-2e1d763e96a8",
   "metadata": {},
   "outputs": [],
   "source": [
    "bike_data_train, bike_data_test = train_test_split(bike_data, train_size=0.8, random_state=42) #1024\n",
    "target = 'cnt'\n",
    "y_train, y_test = bike_data_train[target], bike_data_test[target]"
   ]
  },
  {
   "cell_type": "code",
   "execution_count": 80,
   "id": "0fd6e9e8-7e8a-4346-b2fa-0d9a821308ad",
   "metadata": {},
   "outputs": [],
   "source": [
    "columns_1 = ['season','yr','mnth','holiday','weekday','workingday','weathersit','temp','atemp','hum','windspeed']\n",
    "X_train = bike_data_train[columns_1]"
   ]
  },
  {
   "cell_type": "markdown",
   "id": "19675cae-accc-4b38-b861-089308dab926",
   "metadata": {},
   "source": [
    "### Rescaling the features"
   ]
  },
  {
   "cell_type": "markdown",
   "id": "71fc32d5-84b4-4427-a442-2e6a497f3380",
   "metadata": {},
   "source": [
    "**Here, we will rescale all the numerical features, so that "
   ]
  },
  {
   "cell_type": "code",
   "execution_count": 66,
   "id": "921566ac-1b96-446d-a6ab-8a7c169945fe",
   "metadata": {},
   "outputs": [
    {
     "data": {
      "text/html": [
       "<div>\n",
       "<style scoped>\n",
       "    .dataframe tbody tr th:only-of-type {\n",
       "        vertical-align: middle;\n",
       "    }\n",
       "\n",
       "    .dataframe tbody tr th {\n",
       "        vertical-align: top;\n",
       "    }\n",
       "\n",
       "    .dataframe thead th {\n",
       "        text-align: right;\n",
       "    }\n",
       "</style>\n",
       "<table border=\"1\" class=\"dataframe\">\n",
       "  <thead>\n",
       "    <tr style=\"text-align: right;\">\n",
       "      <th></th>\n",
       "      <th>dteday</th>\n",
       "      <th>season</th>\n",
       "      <th>yr</th>\n",
       "      <th>mnth</th>\n",
       "      <th>holiday</th>\n",
       "      <th>weekday</th>\n",
       "      <th>workingday</th>\n",
       "      <th>weathersit</th>\n",
       "      <th>temp</th>\n",
       "      <th>atemp</th>\n",
       "      <th>hum</th>\n",
       "      <th>windspeed</th>\n",
       "      <th>cnt</th>\n",
       "    </tr>\n",
       "  </thead>\n",
       "  <tbody>\n",
       "    <tr>\n",
       "      <th>0</th>\n",
       "      <td>2018-01-01</td>\n",
       "      <td>1</td>\n",
       "      <td>0</td>\n",
       "      <td>1</td>\n",
       "      <td>0</td>\n",
       "      <td>1</td>\n",
       "      <td>1</td>\n",
       "      <td>2</td>\n",
       "      <td>14.110847</td>\n",
       "      <td>18.18125</td>\n",
       "      <td>80.5833</td>\n",
       "      <td>10.749882</td>\n",
       "      <td>985</td>\n",
       "    </tr>\n",
       "    <tr>\n",
       "      <th>1</th>\n",
       "      <td>2018-01-02</td>\n",
       "      <td>1</td>\n",
       "      <td>0</td>\n",
       "      <td>1</td>\n",
       "      <td>0</td>\n",
       "      <td>2</td>\n",
       "      <td>1</td>\n",
       "      <td>2</td>\n",
       "      <td>14.902598</td>\n",
       "      <td>17.68695</td>\n",
       "      <td>69.6087</td>\n",
       "      <td>16.652113</td>\n",
       "      <td>801</td>\n",
       "    </tr>\n",
       "    <tr>\n",
       "      <th>2</th>\n",
       "      <td>2018-01-03</td>\n",
       "      <td>1</td>\n",
       "      <td>0</td>\n",
       "      <td>1</td>\n",
       "      <td>0</td>\n",
       "      <td>3</td>\n",
       "      <td>1</td>\n",
       "      <td>1</td>\n",
       "      <td>8.050924</td>\n",
       "      <td>9.47025</td>\n",
       "      <td>43.7273</td>\n",
       "      <td>16.636703</td>\n",
       "      <td>1349</td>\n",
       "    </tr>\n",
       "    <tr>\n",
       "      <th>3</th>\n",
       "      <td>2018-01-04</td>\n",
       "      <td>1</td>\n",
       "      <td>0</td>\n",
       "      <td>1</td>\n",
       "      <td>0</td>\n",
       "      <td>4</td>\n",
       "      <td>1</td>\n",
       "      <td>1</td>\n",
       "      <td>8.200000</td>\n",
       "      <td>10.60610</td>\n",
       "      <td>59.0435</td>\n",
       "      <td>10.739832</td>\n",
       "      <td>1562</td>\n",
       "    </tr>\n",
       "    <tr>\n",
       "      <th>4</th>\n",
       "      <td>2018-01-05</td>\n",
       "      <td>1</td>\n",
       "      <td>0</td>\n",
       "      <td>1</td>\n",
       "      <td>0</td>\n",
       "      <td>5</td>\n",
       "      <td>1</td>\n",
       "      <td>1</td>\n",
       "      <td>9.305237</td>\n",
       "      <td>11.46350</td>\n",
       "      <td>43.6957</td>\n",
       "      <td>12.522300</td>\n",
       "      <td>1600</td>\n",
       "    </tr>\n",
       "  </tbody>\n",
       "</table>\n",
       "</div>"
      ],
      "text/plain": [
       "      dteday  season  yr  mnth  holiday  weekday  workingday  weathersit  \\\n",
       "0 2018-01-01       1   0     1        0        1           1           2   \n",
       "1 2018-01-02       1   0     1        0        2           1           2   \n",
       "2 2018-01-03       1   0     1        0        3           1           1   \n",
       "3 2018-01-04       1   0     1        0        4           1           1   \n",
       "4 2018-01-05       1   0     1        0        5           1           1   \n",
       "\n",
       "        temp     atemp      hum  windspeed   cnt  \n",
       "0  14.110847  18.18125  80.5833  10.749882   985  \n",
       "1  14.902598  17.68695  69.6087  16.652113   801  \n",
       "2   8.050924   9.47025  43.7273  16.636703  1349  \n",
       "3   8.200000  10.60610  59.0435  10.739832  1562  \n",
       "4   9.305237  11.46350  43.6957  12.522300  1600  "
      ]
     },
     "execution_count": 66,
     "metadata": {},
     "output_type": "execute_result"
    }
   ],
   "source": [
    "bike_data.head()"
   ]
  },
  {
   "cell_type": "code",
   "execution_count": 77,
   "id": "78635351-c0a7-4d0b-885a-ab7bdb5635da",
   "metadata": {},
   "outputs": [],
   "source": [
    "## Applying the scaler function to numerical variables\n",
    "scaler = MinMaxScaler()\n",
    "num_vars = ['temp', 'atemp', 'hum', 'windspeed']\n",
    "\n",
    "bike_data_train[num_vars] = scaler.fit_transform(bike_data_train[num_vars])"
   ]
  },
  {
   "cell_type": "code",
   "execution_count": 78,
   "id": "3e0ff9bf-6a50-4612-a770-f5c6d6139d2c",
   "metadata": {},
   "outputs": [
    {
     "data": {
      "text/html": [
       "<div>\n",
       "<style scoped>\n",
       "    .dataframe tbody tr th:only-of-type {\n",
       "        vertical-align: middle;\n",
       "    }\n",
       "\n",
       "    .dataframe tbody tr th {\n",
       "        vertical-align: top;\n",
       "    }\n",
       "\n",
       "    .dataframe thead th {\n",
       "        text-align: right;\n",
       "    }\n",
       "</style>\n",
       "<table border=\"1\" class=\"dataframe\">\n",
       "  <thead>\n",
       "    <tr style=\"text-align: right;\">\n",
       "      <th></th>\n",
       "      <th>dteday</th>\n",
       "      <th>season</th>\n",
       "      <th>yr</th>\n",
       "      <th>mnth</th>\n",
       "      <th>holiday</th>\n",
       "      <th>weekday</th>\n",
       "      <th>workingday</th>\n",
       "      <th>weathersit</th>\n",
       "      <th>temp</th>\n",
       "      <th>atemp</th>\n",
       "      <th>hum</th>\n",
       "      <th>windspeed</th>\n",
       "      <th>cnt</th>\n",
       "    </tr>\n",
       "  </thead>\n",
       "  <tbody>\n",
       "    <tr>\n",
       "      <th>247</th>\n",
       "      <td>2018-09-05</td>\n",
       "      <td>3</td>\n",
       "      <td>0</td>\n",
       "      <td>9</td>\n",
       "      <td>1</td>\n",
       "      <td>3</td>\n",
       "      <td>0</td>\n",
       "      <td>2</td>\n",
       "      <td>0.765327</td>\n",
       "      <td>0.717455</td>\n",
       "      <td>0.814513</td>\n",
       "      <td>0.475900</td>\n",
       "      <td>3351</td>\n",
       "    </tr>\n",
       "    <tr>\n",
       "      <th>335</th>\n",
       "      <td>2018-12-02</td>\n",
       "      <td>4</td>\n",
       "      <td>0</td>\n",
       "      <td>12</td>\n",
       "      <td>0</td>\n",
       "      <td>0</td>\n",
       "      <td>0</td>\n",
       "      <td>1</td>\n",
       "      <td>0.317788</td>\n",
       "      <td>0.331261</td>\n",
       "      <td>0.644911</td>\n",
       "      <td>0.195963</td>\n",
       "      <td>3940</td>\n",
       "    </tr>\n",
       "    <tr>\n",
       "      <th>702</th>\n",
       "      <td>2019-12-04</td>\n",
       "      <td>4</td>\n",
       "      <td>1</td>\n",
       "      <td>12</td>\n",
       "      <td>0</td>\n",
       "      <td>3</td>\n",
       "      <td>1</td>\n",
       "      <td>1</td>\n",
       "      <td>0.519232</td>\n",
       "      <td>0.511907</td>\n",
       "      <td>0.756118</td>\n",
       "      <td>0.379454</td>\n",
       "      <td>6606</td>\n",
       "    </tr>\n",
       "    <tr>\n",
       "      <th>440</th>\n",
       "      <td>2019-03-17</td>\n",
       "      <td>1</td>\n",
       "      <td>1</td>\n",
       "      <td>3</td>\n",
       "      <td>0</td>\n",
       "      <td>0</td>\n",
       "      <td>0</td>\n",
       "      <td>2</td>\n",
       "      <td>0.566998</td>\n",
       "      <td>0.559152</td>\n",
       "      <td>0.778874</td>\n",
       "      <td>0.220845</td>\n",
       "      <td>7836</td>\n",
       "    </tr>\n",
       "    <tr>\n",
       "      <th>136</th>\n",
       "      <td>2018-05-17</td>\n",
       "      <td>2</td>\n",
       "      <td>0</td>\n",
       "      <td>5</td>\n",
       "      <td>0</td>\n",
       "      <td>4</td>\n",
       "      <td>1</td>\n",
       "      <td>2</td>\n",
       "      <td>0.626185</td>\n",
       "      <td>0.603102</td>\n",
       "      <td>0.863461</td>\n",
       "      <td>0.637592</td>\n",
       "      <td>4123</td>\n",
       "    </tr>\n",
       "  </tbody>\n",
       "</table>\n",
       "</div>"
      ],
      "text/plain": [
       "        dteday  season  yr  mnth  holiday  weekday  workingday  weathersit  \\\n",
       "247 2018-09-05       3   0     9        1        3           0           2   \n",
       "335 2018-12-02       4   0    12        0        0           0           1   \n",
       "702 2019-12-04       4   1    12        0        3           1           1   \n",
       "440 2019-03-17       1   1     3        0        0           0           2   \n",
       "136 2018-05-17       2   0     5        0        4           1           2   \n",
       "\n",
       "         temp     atemp       hum  windspeed   cnt  \n",
       "247  0.765327  0.717455  0.814513   0.475900  3351  \n",
       "335  0.317788  0.331261  0.644911   0.195963  3940  \n",
       "702  0.519232  0.511907  0.756118   0.379454  6606  \n",
       "440  0.566998  0.559152  0.778874   0.220845  7836  \n",
       "136  0.626185  0.603102  0.863461   0.637592  4123  "
      ]
     },
     "execution_count": 78,
     "metadata": {},
     "output_type": "execute_result"
    }
   ],
   "source": [
    "bike_data_train.head()"
   ]
  },
  {
   "cell_type": "markdown",
   "id": "a03225ed-170a-42ae-b46f-f964834110b5",
   "metadata": {},
   "source": [
    "### RFE\n"
   ]
  },
  {
   "cell_type": "code",
   "execution_count": 99,
   "id": "95eeb81c-91bb-4145-98f7-55d5f1bc55f4",
   "metadata": {},
   "outputs": [],
   "source": [
    "X_train = bike_data_train[columns_1]"
   ]
  },
  {
   "cell_type": "code",
   "execution_count": 100,
   "id": "79637746-dff5-47f1-b38d-f45945f9ff3d",
   "metadata": {},
   "outputs": [],
   "source": [
    "# Running RFE with the output number of the variable equal to 10\n",
    "lm = LinearRegression()\n",
    "lm.fit(X_train, y_train)\n",
    "\n",
    "rfe = RFE(lm, 8)             # running RFE # it needs two things model and number of variables\n",
    "rfe = rfe.fit(X_train, y_train)"
   ]
  },
  {
   "cell_type": "code",
   "execution_count": 101,
   "id": "00569995-fa3e-4afb-8ac3-25d2bf5ea2b9",
   "metadata": {},
   "outputs": [
    {
     "data": {
      "text/plain": [
       "[('season', True, 1),\n",
       " ('yr', True, 1),\n",
       " ('mnth', False, 3),\n",
       " ('holiday', True, 1),\n",
       " ('weekday', False, 4),\n",
       " ('workingday', False, 2),\n",
       " ('weathersit', True, 1),\n",
       " ('temp', True, 1),\n",
       " ('atemp', True, 1),\n",
       " ('hum', True, 1),\n",
       " ('windspeed', True, 1)]"
      ]
     },
     "execution_count": 101,
     "metadata": {},
     "output_type": "execute_result"
    }
   ],
   "source": [
    "list(zip(X_train.columns,rfe.support_,rfe.ranking_))"
   ]
  },
  {
   "cell_type": "markdown",
   "id": "8e5091fe-f2e3-4cb4-8140-331bb593d07f",
   "metadata": {},
   "source": [
    "Selecting those variable which explains the `target variable` effectively as per `RFE`"
   ]
  },
  {
   "cell_type": "code",
   "execution_count": 202,
   "id": "c27c5062-8da8-4932-b84b-980c20ed7731",
   "metadata": {},
   "outputs": [
    {
     "data": {
      "text/plain": [
       "Index(['season', 'yr', 'holiday', 'weathersit', 'temp', 'atemp', 'hum',\n",
       "       'windspeed'],\n",
       "      dtype='object')"
      ]
     },
     "execution_count": 202,
     "metadata": {},
     "output_type": "execute_result"
    }
   ],
   "source": [
    "col = X_train.columns[rfe.support_]\n",
    "col"
   ]
  },
  {
   "cell_type": "markdown",
   "id": "17234588-5e55-4c50-89de-3da9dc3143e7",
   "metadata": {},
   "source": [
    "#### Model-1 - Lm_1"
   ]
  },
  {
   "cell_type": "code",
   "execution_count": 103,
   "id": "9f2f6d3c-6060-4841-ad68-d9a78ff7aca3",
   "metadata": {},
   "outputs": [],
   "source": [
    "X_train_rfe = X_train[col]"
   ]
  },
  {
   "cell_type": "code",
   "execution_count": 104,
   "id": "1ae2d0e4-5600-4d5a-849b-24db01cf6be3",
   "metadata": {},
   "outputs": [],
   "source": [
    "X_train_rfe = add_constant(X_train_rfe)"
   ]
  },
  {
   "cell_type": "code",
   "execution_count": 203,
   "id": "8266a1ad-c5b0-4f2f-9f4b-b1de0491604e",
   "metadata": {},
   "outputs": [
    {
     "data": {
      "text/html": [
       "<div>\n",
       "<style scoped>\n",
       "    .dataframe tbody tr th:only-of-type {\n",
       "        vertical-align: middle;\n",
       "    }\n",
       "\n",
       "    .dataframe tbody tr th {\n",
       "        vertical-align: top;\n",
       "    }\n",
       "\n",
       "    .dataframe thead th {\n",
       "        text-align: right;\n",
       "    }\n",
       "</style>\n",
       "<table border=\"1\" class=\"dataframe\">\n",
       "  <thead>\n",
       "    <tr style=\"text-align: right;\">\n",
       "      <th></th>\n",
       "      <th>const</th>\n",
       "      <th>season</th>\n",
       "      <th>yr</th>\n",
       "      <th>holiday</th>\n",
       "      <th>weathersit</th>\n",
       "      <th>temp</th>\n",
       "      <th>atemp</th>\n",
       "      <th>hum</th>\n",
       "      <th>windspeed</th>\n",
       "    </tr>\n",
       "  </thead>\n",
       "  <tbody>\n",
       "    <tr>\n",
       "      <th>247</th>\n",
       "      <td>1.0</td>\n",
       "      <td>3</td>\n",
       "      <td>0</td>\n",
       "      <td>1</td>\n",
       "      <td>2</td>\n",
       "      <td>0.765327</td>\n",
       "      <td>0.717455</td>\n",
       "      <td>0.814513</td>\n",
       "      <td>0.475900</td>\n",
       "    </tr>\n",
       "    <tr>\n",
       "      <th>335</th>\n",
       "      <td>1.0</td>\n",
       "      <td>4</td>\n",
       "      <td>0</td>\n",
       "      <td>0</td>\n",
       "      <td>1</td>\n",
       "      <td>0.317788</td>\n",
       "      <td>0.331261</td>\n",
       "      <td>0.644911</td>\n",
       "      <td>0.195963</td>\n",
       "    </tr>\n",
       "    <tr>\n",
       "      <th>702</th>\n",
       "      <td>1.0</td>\n",
       "      <td>4</td>\n",
       "      <td>1</td>\n",
       "      <td>0</td>\n",
       "      <td>1</td>\n",
       "      <td>0.519232</td>\n",
       "      <td>0.511907</td>\n",
       "      <td>0.756118</td>\n",
       "      <td>0.379454</td>\n",
       "    </tr>\n",
       "    <tr>\n",
       "      <th>440</th>\n",
       "      <td>1.0</td>\n",
       "      <td>1</td>\n",
       "      <td>1</td>\n",
       "      <td>0</td>\n",
       "      <td>2</td>\n",
       "      <td>0.566998</td>\n",
       "      <td>0.559152</td>\n",
       "      <td>0.778874</td>\n",
       "      <td>0.220845</td>\n",
       "    </tr>\n",
       "    <tr>\n",
       "      <th>136</th>\n",
       "      <td>1.0</td>\n",
       "      <td>2</td>\n",
       "      <td>0</td>\n",
       "      <td>0</td>\n",
       "      <td>2</td>\n",
       "      <td>0.626185</td>\n",
       "      <td>0.603102</td>\n",
       "      <td>0.863461</td>\n",
       "      <td>0.637592</td>\n",
       "    </tr>\n",
       "  </tbody>\n",
       "</table>\n",
       "</div>"
      ],
      "text/plain": [
       "     const  season  yr  holiday  weathersit      temp     atemp       hum  \\\n",
       "247    1.0       3   0        1           2  0.765327  0.717455  0.814513   \n",
       "335    1.0       4   0        0           1  0.317788  0.331261  0.644911   \n",
       "702    1.0       4   1        0           1  0.519232  0.511907  0.756118   \n",
       "440    1.0       1   1        0           2  0.566998  0.559152  0.778874   \n",
       "136    1.0       2   0        0           2  0.626185  0.603102  0.863461   \n",
       "\n",
       "     windspeed  \n",
       "247   0.475900  \n",
       "335   0.195963  \n",
       "702   0.379454  \n",
       "440   0.220845  \n",
       "136   0.637592  "
      ]
     },
     "execution_count": 203,
     "metadata": {},
     "output_type": "execute_result"
    }
   ],
   "source": [
    "X_train_rfe.head()"
   ]
  },
  {
   "cell_type": "code",
   "execution_count": 96,
   "id": "c0ee5604-35b5-49bc-83ec-1af5b83e223a",
   "metadata": {},
   "outputs": [
    {
     "data": {
      "text/plain": [
       "247    3351\n",
       "335    3940\n",
       "702    6606\n",
       "440    7836\n",
       "136    4123\n",
       "Name: cnt, dtype: int64"
      ]
     },
     "execution_count": 96,
     "metadata": {},
     "output_type": "execute_result"
    }
   ],
   "source": [
    "y_train.head()"
   ]
  },
  {
   "cell_type": "code",
   "execution_count": 106,
   "id": "4591c012-fa44-4fae-8952-25fa5f4dc923",
   "metadata": {},
   "outputs": [],
   "source": [
    "\n",
    "X_train_rfe = sm.add_constant(X_train_rfe)"
   ]
  },
  {
   "cell_type": "code",
   "execution_count": 108,
   "id": "578ede3d-8926-47f1-bbb9-9cf5f5749eca",
   "metadata": {},
   "outputs": [],
   "source": [
    "lm_1 = sm.OLS(y_train,X_train_rfe).fit() "
   ]
  },
  {
   "cell_type": "code",
   "execution_count": 118,
   "id": "22df8df4-5951-4ddd-a803-7242eaec3362",
   "metadata": {},
   "outputs": [
    {
     "name": "stdout",
     "output_type": "stream",
     "text": [
      "                            OLS Regression Results                            \n",
      "==============================================================================\n",
      "Dep. Variable:                    cnt   R-squared:                       0.782\n",
      "Model:                            OLS   Adj. R-squared:                  0.779\n",
      "Method:                 Least Squares   F-statistic:                     257.9\n",
      "Date:                Mon, 06 Jun 2022   Prob (F-statistic):          1.16e-184\n",
      "Time:                        21:24:21   Log-Likelihood:                -4809.0\n",
      "No. Observations:                 584   AIC:                             9636.\n",
      "Df Residuals:                     575   BIC:                             9675.\n",
      "Df Model:                           8                                         \n",
      "Covariance Type:            nonrobust                                         \n",
      "==============================================================================\n",
      "                 coef    std err          t      P>|t|      [0.025      0.975]\n",
      "------------------------------------------------------------------------------\n",
      "const       2043.5541    247.724      8.249      0.000    1557.000    2530.109\n",
      "season       401.9018     37.614     10.685      0.000     328.024     475.779\n",
      "yr          1986.3566     76.932     25.820      0.000    1835.255    2137.458\n",
      "holiday     -699.5184    215.671     -3.243      0.001   -1123.117    -275.920\n",
      "weathersit  -571.8529     90.832     -6.296      0.000    -750.257    -393.449\n",
      "temp        -939.7799   2155.781     -0.436      0.663   -5173.946    3294.386\n",
      "atemp       5631.2062   2328.915      2.418      0.016    1056.987    1.02e+04\n",
      "hum        -1146.6706    354.544     -3.234      0.001   -1843.030    -450.311\n",
      "windspeed   -998.1065    224.426     -4.447      0.000   -1438.902    -557.311\n",
      "==============================================================================\n",
      "Omnibus:                       73.900   Durbin-Watson:                   2.014\n",
      "Prob(Omnibus):                  0.000   Jarque-Bera (JB):              147.453\n",
      "Skew:                          -0.735   Prob(JB):                     9.57e-33\n",
      "Kurtosis:                       4.974   Cond. No.                         286.\n",
      "==============================================================================\n",
      "\n",
      "Notes:\n",
      "[1] Standard Errors assume that the covariance matrix of the errors is correctly specified.\n"
     ]
    }
   ],
   "source": [
    "print(lm_1.summary())"
   ]
  },
  {
   "cell_type": "code",
   "execution_count": 152,
   "id": "1d0f9fa8-ee4c-4466-9843-76657463ebb8",
   "metadata": {},
   "outputs": [],
   "source": [
    "vif = pd.DataFrame()\n",
    "\n",
    "vif['Features'] = X_train.columns ## features colums\n",
    "\n",
    "vif['VIF'] = [variance_inflation_factor(X_train.values,i) for i in range(X_train.shape[1])] ## calculating VIF\n",
    "\n",
    "vif['VIF'] = round(vif['VIF'],2) ## rounding off to 2 decimal places\n",
    "\n",
    "\n",
    "vif = vif.sort_values(by = 'VIF',ascending = False)"
   ]
  },
  {
   "cell_type": "code",
   "execution_count": 149,
   "id": "f6ea00b3-c44e-4fd6-9ace-26bd7bfe86e8",
   "metadata": {},
   "outputs": [
    {
     "data": {
      "text/html": [
       "<div>\n",
       "<style scoped>\n",
       "    .dataframe tbody tr th:only-of-type {\n",
       "        vertical-align: middle;\n",
       "    }\n",
       "\n",
       "    .dataframe tbody tr th {\n",
       "        vertical-align: top;\n",
       "    }\n",
       "\n",
       "    .dataframe thead th {\n",
       "        text-align: right;\n",
       "    }\n",
       "</style>\n",
       "<table border=\"1\" class=\"dataframe\">\n",
       "  <thead>\n",
       "    <tr style=\"text-align: right;\">\n",
       "      <th></th>\n",
       "      <th>Features</th>\n",
       "      <th>VIF</th>\n",
       "    </tr>\n",
       "  </thead>\n",
       "  <tbody>\n",
       "    <tr>\n",
       "      <th>8</th>\n",
       "      <td>atemp</td>\n",
       "      <td>1184.89</td>\n",
       "    </tr>\n",
       "    <tr>\n",
       "      <th>7</th>\n",
       "      <td>temp</td>\n",
       "      <td>1125.00</td>\n",
       "    </tr>\n",
       "    <tr>\n",
       "      <th>9</th>\n",
       "      <td>hum</td>\n",
       "      <td>28.17</td>\n",
       "    </tr>\n",
       "    <tr>\n",
       "      <th>0</th>\n",
       "      <td>season</td>\n",
       "      <td>24.22</td>\n",
       "    </tr>\n",
       "    <tr>\n",
       "      <th>2</th>\n",
       "      <td>mnth</td>\n",
       "      <td>17.40</td>\n",
       "    </tr>\n",
       "    <tr>\n",
       "      <th>6</th>\n",
       "      <td>weathersit</td>\n",
       "      <td>13.15</td>\n",
       "    </tr>\n",
       "    <tr>\n",
       "      <th>10</th>\n",
       "      <td>windspeed</td>\n",
       "      <td>4.83</td>\n",
       "    </tr>\n",
       "    <tr>\n",
       "      <th>5</th>\n",
       "      <td>workingday</td>\n",
       "      <td>3.44</td>\n",
       "    </tr>\n",
       "    <tr>\n",
       "      <th>4</th>\n",
       "      <td>weekday</td>\n",
       "      <td>3.16</td>\n",
       "    </tr>\n",
       "    <tr>\n",
       "      <th>1</th>\n",
       "      <td>yr</td>\n",
       "      <td>1.99</td>\n",
       "    </tr>\n",
       "    <tr>\n",
       "      <th>3</th>\n",
       "      <td>holiday</td>\n",
       "      <td>1.12</td>\n",
       "    </tr>\n",
       "  </tbody>\n",
       "</table>\n",
       "</div>"
      ],
      "text/plain": [
       "      Features      VIF\n",
       "8        atemp  1184.89\n",
       "7         temp  1125.00\n",
       "9          hum    28.17\n",
       "0       season    24.22\n",
       "2         mnth    17.40\n",
       "6   weathersit    13.15\n",
       "10   windspeed     4.83\n",
       "5   workingday     3.44\n",
       "4      weekday     3.16\n",
       "1           yr     1.99\n",
       "3      holiday     1.12"
      ]
     },
     "execution_count": 149,
     "metadata": {},
     "output_type": "execute_result"
    }
   ],
   "source": [
    "vif"
   ]
  },
  {
   "cell_type": "markdown",
   "id": "77a150f0-311f-4173-9a5f-f9e12eba93f6",
   "metadata": {},
   "source": [
    "#### Model-2 - Lm_2"
   ]
  },
  {
   "cell_type": "markdown",
   "id": "b9b4d414-ddd3-44a1-9193-ecfcb68b7a99",
   "metadata": {},
   "source": [
    "From Summary we can clearly see that, `temp` has p- value > 0.05, hence dropping that.\n",
    "\n",
    "</br>\n",
    "Rebuilding the model"
   ]
  },
  {
   "cell_type": "code",
   "execution_count": 183,
   "id": "141053fe-9eaa-4330-975c-a8ed437c4beb",
   "metadata": {},
   "outputs": [],
   "source": [
    "X_train_new = X_train_rfe.drop([\"temp\"], axis = 1)"
   ]
  },
  {
   "cell_type": "code",
   "execution_count": 154,
   "id": "7257c943-770a-4831-9446-61297c5209d9",
   "metadata": {},
   "outputs": [],
   "source": [
    "\n",
    "X_train_lm = sm.add_constant(X_train_new)\n",
    "lm_2 = sm.OLS(y_train,X_train_lm).fit()"
   ]
  },
  {
   "cell_type": "code",
   "execution_count": 155,
   "id": "20c96258-0048-458f-b66e-6a4516175ec4",
   "metadata": {},
   "outputs": [
    {
     "name": "stdout",
     "output_type": "stream",
     "text": [
      "                            OLS Regression Results                            \n",
      "==============================================================================\n",
      "Dep. Variable:                    cnt   R-squared:                       0.782\n",
      "Model:                            OLS   Adj. R-squared:                  0.779\n",
      "Method:                 Least Squares   F-statistic:                     295.1\n",
      "Date:                Tue, 07 Jun 2022   Prob (F-statistic):          7.17e-186\n",
      "Time:                        00:38:25   Log-Likelihood:                -4809.1\n",
      "No. Observations:                 584   AIC:                             9634.\n",
      "Df Residuals:                     576   BIC:                             9669.\n",
      "Df Model:                           7                                         \n",
      "Covariance Type:            nonrobust                                         \n",
      "==============================================================================\n",
      "                 coef    std err          t      P>|t|      [0.025      0.975]\n",
      "------------------------------------------------------------------------------\n",
      "const       2057.4458    245.493      8.381      0.000    1575.275    2539.617\n",
      "season       403.2552     37.459     10.765      0.000     329.682     476.829\n",
      "yr          1987.6308     76.822     25.873      0.000    1836.745    2138.517\n",
      "holiday     -706.7609    214.879     -3.289      0.001   -1128.802    -284.720\n",
      "weathersit  -576.9138     90.024     -6.408      0.000    -753.729    -400.098\n",
      "atemp       4619.5740    196.434     23.517      0.000    4233.759    5005.389\n",
      "hum        -1125.5433    350.969     -3.207      0.001   -1814.878    -436.208\n",
      "windspeed  -1021.0092    218.037     -4.683      0.000   -1449.253    -592.765\n",
      "==============================================================================\n",
      "Omnibus:                       71.175   Durbin-Watson:                   2.016\n",
      "Prob(Omnibus):                  0.000   Jarque-Bera (JB):              140.096\n",
      "Skew:                          -0.716   Prob(JB):                     3.79e-31\n",
      "Kurtosis:                       4.925   Cond. No.                         36.3\n",
      "==============================================================================\n",
      "\n",
      "Notes:\n",
      "[1] Standard Errors assume that the covariance matrix of the errors is correctly specified.\n"
     ]
    }
   ],
   "source": [
    "print(lm_2.summary())"
   ]
  },
  {
   "cell_type": "markdown",
   "id": "69bd23f4-6918-4a21-a683-971b12b1bdce",
   "metadata": {},
   "source": [
    "Checking the VIF values"
   ]
  },
  {
   "cell_type": "markdown",
   "id": "a3602d7a-9fac-4aa2-8b48-f166a9fafdbb",
   "metadata": {},
   "source": [
    "**As we can see, removing `temp` was a good decision as it doesn't effect our $R^2$ and adj.$R^2$**"
   ]
  },
  {
   "cell_type": "code",
   "execution_count": 184,
   "id": "25ecd8a3-34b5-40c7-b409-3e55f917698b",
   "metadata": {},
   "outputs": [
    {
     "data": {
      "text/html": [
       "<div>\n",
       "<style scoped>\n",
       "    .dataframe tbody tr th:only-of-type {\n",
       "        vertical-align: middle;\n",
       "    }\n",
       "\n",
       "    .dataframe tbody tr th {\n",
       "        vertical-align: top;\n",
       "    }\n",
       "\n",
       "    .dataframe thead th {\n",
       "        text-align: right;\n",
       "    }\n",
       "</style>\n",
       "<table border=\"1\" class=\"dataframe\">\n",
       "  <thead>\n",
       "    <tr style=\"text-align: right;\">\n",
       "      <th></th>\n",
       "      <th>Features</th>\n",
       "      <th>VIF</th>\n",
       "    </tr>\n",
       "  </thead>\n",
       "  <tbody>\n",
       "    <tr>\n",
       "      <th>0</th>\n",
       "      <td>const</td>\n",
       "      <td>41.73</td>\n",
       "    </tr>\n",
       "    <tr>\n",
       "      <th>6</th>\n",
       "      <td>hum</td>\n",
       "      <td>1.83</td>\n",
       "    </tr>\n",
       "    <tr>\n",
       "      <th>4</th>\n",
       "      <td>weathersit</td>\n",
       "      <td>1.72</td>\n",
       "    </tr>\n",
       "    <tr>\n",
       "      <th>5</th>\n",
       "      <td>atemp</td>\n",
       "      <td>1.20</td>\n",
       "    </tr>\n",
       "    <tr>\n",
       "      <th>1</th>\n",
       "      <td>season</td>\n",
       "      <td>1.18</td>\n",
       "    </tr>\n",
       "    <tr>\n",
       "      <th>7</th>\n",
       "      <td>windspeed</td>\n",
       "      <td>1.15</td>\n",
       "    </tr>\n",
       "    <tr>\n",
       "      <th>2</th>\n",
       "      <td>yr</td>\n",
       "      <td>1.02</td>\n",
       "    </tr>\n",
       "    <tr>\n",
       "      <th>3</th>\n",
       "      <td>holiday</td>\n",
       "      <td>1.01</td>\n",
       "    </tr>\n",
       "  </tbody>\n",
       "</table>\n",
       "</div>"
      ],
      "text/plain": [
       "     Features    VIF\n",
       "0       const  41.73\n",
       "6         hum   1.83\n",
       "4  weathersit   1.72\n",
       "5       atemp   1.20\n",
       "1      season   1.18\n",
       "7   windspeed   1.15\n",
       "2          yr   1.02\n",
       "3     holiday   1.01"
      ]
     },
     "execution_count": 184,
     "metadata": {},
     "output_type": "execute_result"
    }
   ],
   "source": [
    "# Calculate the VIFs for the new model\n",
    "from statsmodels.stats.outliers_influence import variance_inflation_factor\n",
    "\n",
    "vif = pd.DataFrame()\n",
    "X = X_train_new\n",
    "vif['Features'] = X.columns\n",
    "vif['VIF'] = [variance_inflation_factor(X.values, i) for i in range(X.shape[1])]\n",
    "vif['VIF'] = round(vif['VIF'], 2)\n",
    "vif = vif.sort_values(by = \"VIF\", ascending = False)\n",
    "vif"
   ]
  },
  {
   "cell_type": "markdown",
   "id": "cffbfdad-831b-4390-9b20-8b3e171e54cf",
   "metadata": {},
   "source": [
    "#### Model-3 - Lm_3\n",
    "\n",
    "Dropping `holiday` as a measure to reduce the features in the model"
   ]
  },
  {
   "cell_type": "code",
   "execution_count": 139,
   "id": "75f9f482-5e17-4b8d-bb60-5bac8842af3d",
   "metadata": {},
   "outputs": [],
   "source": [
    "X_train_new_1 = X_train_rfe.drop([\"holiday\",'temp'], axis = 1)"
   ]
  },
  {
   "cell_type": "code",
   "execution_count": 140,
   "id": "20df00a1-9b76-4442-bbb4-e13718a0e43b",
   "metadata": {},
   "outputs": [],
   "source": [
    "X_train_lm_2 = sm.add_constant(X_train_new_1)\n",
    "lm_3 = sm.OLS(y_train,X_train_lm_2).fit()"
   ]
  },
  {
   "cell_type": "code",
   "execution_count": 141,
   "id": "7b29248d-3bf3-4996-9522-6049ef386792",
   "metadata": {},
   "outputs": [
    {
     "name": "stdout",
     "output_type": "stream",
     "text": [
      "                            OLS Regression Results                            \n",
      "==============================================================================\n",
      "Dep. Variable:                    cnt   R-squared:                       0.778\n",
      "Model:                            OLS   Adj. R-squared:                  0.776\n",
      "Method:                 Least Squares   F-statistic:                     336.8\n",
      "Date:                Mon, 06 Jun 2022   Prob (F-statistic):          7.85e-185\n",
      "Time:                        22:49:09   Log-Likelihood:                -4814.5\n",
      "No. Observations:                 584   AIC:                             9643.\n",
      "Df Residuals:                     577   BIC:                             9674.\n",
      "Df Model:                           6                                         \n",
      "Covariance Type:            nonrobust                                         \n",
      "==============================================================================\n",
      "                 coef    std err          t      P>|t|      [0.025      0.975]\n",
      "------------------------------------------------------------------------------\n",
      "const       2001.0594    246.969      8.102      0.000    1515.992    2486.127\n",
      "season       401.6827     37.774     10.634      0.000     327.492     475.873\n",
      "yr          1990.4064     77.468     25.693      0.000    1838.252    2142.561\n",
      "weathersit  -567.5508     90.741     -6.255      0.000    -745.774    -389.327\n",
      "atemp       4664.4654    197.620     23.603      0.000    4276.323    5052.607\n",
      "hum        -1128.0344    353.942     -3.187      0.002   -1823.206    -432.863\n",
      "windspeed  -1019.1953    219.883     -4.635      0.000   -1451.065    -587.326\n",
      "==============================================================================\n",
      "Omnibus:                       76.573   Durbin-Watson:                   2.026\n",
      "Prob(Omnibus):                  0.000   Jarque-Bera (JB):              153.469\n",
      "Skew:                          -0.757   Prob(JB):                     4.73e-34\n",
      "Kurtosis:                       5.004   Cond. No.                         36.3\n",
      "==============================================================================\n",
      "\n",
      "Notes:\n",
      "[1] Standard Errors assume that the covariance matrix of the errors is correctly specified.\n"
     ]
    }
   ],
   "source": [
    "print(lm_3.summary())"
   ]
  },
  {
   "cell_type": "markdown",
   "id": "417d31e4-6631-49fc-b04d-16d00f98ac89",
   "metadata": {},
   "source": [
    "\n",
    "**There is a negligible change in r2 and adjusted r2 value, hence, it's okay to remove ``holiday``**\n"
   ]
  },
  {
   "cell_type": "markdown",
   "id": "d3775537-a976-4f4d-9ead-b602da57a4b3",
   "metadata": {},
   "source": [
    "Cheking the VIF values"
   ]
  },
  {
   "cell_type": "code",
   "execution_count": 142,
   "id": "e6b447e6-cb2a-494e-bc92-9e39c2c3bbe6",
   "metadata": {},
   "outputs": [
    {
     "data": {
      "text/html": [
       "<div>\n",
       "<style scoped>\n",
       "    .dataframe tbody tr th:only-of-type {\n",
       "        vertical-align: middle;\n",
       "    }\n",
       "\n",
       "    .dataframe tbody tr th {\n",
       "        vertical-align: top;\n",
       "    }\n",
       "\n",
       "    .dataframe thead th {\n",
       "        text-align: right;\n",
       "    }\n",
       "</style>\n",
       "<table border=\"1\" class=\"dataframe\">\n",
       "  <thead>\n",
       "    <tr style=\"text-align: right;\">\n",
       "      <th></th>\n",
       "      <th>Features</th>\n",
       "      <th>VIF</th>\n",
       "    </tr>\n",
       "  </thead>\n",
       "  <tbody>\n",
       "    <tr>\n",
       "      <th>0</th>\n",
       "      <td>const</td>\n",
       "      <td>41.73</td>\n",
       "    </tr>\n",
       "    <tr>\n",
       "      <th>6</th>\n",
       "      <td>hum</td>\n",
       "      <td>1.83</td>\n",
       "    </tr>\n",
       "    <tr>\n",
       "      <th>4</th>\n",
       "      <td>weathersit</td>\n",
       "      <td>1.72</td>\n",
       "    </tr>\n",
       "    <tr>\n",
       "      <th>5</th>\n",
       "      <td>atemp</td>\n",
       "      <td>1.20</td>\n",
       "    </tr>\n",
       "    <tr>\n",
       "      <th>1</th>\n",
       "      <td>season</td>\n",
       "      <td>1.18</td>\n",
       "    </tr>\n",
       "    <tr>\n",
       "      <th>7</th>\n",
       "      <td>windspeed</td>\n",
       "      <td>1.15</td>\n",
       "    </tr>\n",
       "    <tr>\n",
       "      <th>2</th>\n",
       "      <td>yr</td>\n",
       "      <td>1.02</td>\n",
       "    </tr>\n",
       "    <tr>\n",
       "      <th>3</th>\n",
       "      <td>holiday</td>\n",
       "      <td>1.01</td>\n",
       "    </tr>\n",
       "  </tbody>\n",
       "</table>\n",
       "</div>"
      ],
      "text/plain": [
       "     Features    VIF\n",
       "0       const  41.73\n",
       "6         hum   1.83\n",
       "4  weathersit   1.72\n",
       "5       atemp   1.20\n",
       "1      season   1.18\n",
       "7   windspeed   1.15\n",
       "2          yr   1.02\n",
       "3     holiday   1.01"
      ]
     },
     "execution_count": 142,
     "metadata": {},
     "output_type": "execute_result"
    }
   ],
   "source": [
    "# Calculate the VIFs for the new model\n",
    "from statsmodels.stats.outliers_influence import variance_inflation_factor\n",
    "\n",
    "vif = pd.DataFrame()\n",
    "X = X_train_new\n",
    "vif['Features'] = X.columns\n",
    "vif['VIF'] = [variance_inflation_factor(X.values, i) for i in range(X.shape[1])]\n",
    "vif['VIF'] = round(vif['VIF'], 2)\n",
    "vif = vif.sort_values(by = \"VIF\", ascending = False)\n",
    "vif"
   ]
  },
  {
   "cell_type": "markdown",
   "id": "405c07b6-2a8e-47c6-bbd0-6b81bde63f4d",
   "metadata": {},
   "source": [
    "#### Moddel - 4 - lm_4"
   ]
  },
  {
   "cell_type": "markdown",
   "id": "0f3d3558-b31d-4d6f-8f8a-c74cba809e01",
   "metadata": {},
   "source": [
    "\n",
    "\n",
    "Removing `hum` as it's VIF value is ~ 2.\n",
    "</br>\n",
    "</br>\n",
    "Also, Checking the model efficiency by reducing variables"
   ]
  },
  {
   "cell_type": "code",
   "execution_count": 143,
   "id": "0e467a40-381d-434b-87e1-9b925f88e264",
   "metadata": {},
   "outputs": [],
   "source": [
    "X_train_new_2 = X_train_rfe.drop([\"holiday\",'temp','hum'], axis = 1)"
   ]
  },
  {
   "cell_type": "code",
   "execution_count": 144,
   "id": "1c61ff2c-72f3-4e41-aee7-605d53e49b4b",
   "metadata": {},
   "outputs": [],
   "source": [
    "X_train_lm_3 = sm.add_constant(X_train_new_2)\n",
    "lm_4 = sm.OLS(y_train,X_train_lm_3).fit()"
   ]
  },
  {
   "cell_type": "code",
   "execution_count": 145,
   "id": "ac9cbf20-20b3-4769-8224-58032eedc757",
   "metadata": {},
   "outputs": [
    {
     "name": "stdout",
     "output_type": "stream",
     "text": [
      "                            OLS Regression Results                            \n",
      "==============================================================================\n",
      "Dep. Variable:                    cnt   R-squared:                       0.774\n",
      "Model:                            OLS   Adj. R-squared:                  0.772\n",
      "Method:                 Least Squares   F-statistic:                     395.8\n",
      "Date:                Mon, 06 Jun 2022   Prob (F-statistic):          5.71e-184\n",
      "Time:                        23:13:02   Log-Likelihood:                -4819.6\n",
      "No. Observations:                 584   AIC:                             9651.\n",
      "Df Residuals:                     578   BIC:                             9677.\n",
      "Df Model:                           5                                         \n",
      "Covariance Type:            nonrobust                                         \n",
      "==============================================================================\n",
      "                 coef    std err          t      P>|t|      [0.025      0.975]\n",
      "------------------------------------------------------------------------------\n",
      "const       1515.0663    195.802      7.738      0.000    1130.496    1899.637\n",
      "season       386.4452     37.765     10.233      0.000     312.271     460.619\n",
      "yr          2022.4258     77.420     26.123      0.000    1870.366    2174.485\n",
      "weathersit  -751.7777     70.499    -10.664      0.000    -890.243    -613.312\n",
      "atemp       4570.1357    196.933     23.207      0.000    4183.345    4956.926\n",
      "windspeed   -824.4617    212.890     -3.873      0.000   -1242.594    -406.329\n",
      "==============================================================================\n",
      "Omnibus:                       70.251   Durbin-Watson:                   2.044\n",
      "Prob(Omnibus):                  0.000   Jarque-Bera (JB):              134.989\n",
      "Skew:                          -0.716   Prob(JB):                     4.87e-30\n",
      "Kurtosis:                       4.870   Cond. No.                         23.2\n",
      "==============================================================================\n",
      "\n",
      "Notes:\n",
      "[1] Standard Errors assume that the covariance matrix of the errors is correctly specified.\n"
     ]
    }
   ],
   "source": [
    "print(lm_4.summary())"
   ]
  },
  {
   "cell_type": "code",
   "execution_count": 147,
   "id": "1a5e48f1-97f6-4552-945a-4bc582d27d0d",
   "metadata": {},
   "outputs": [
    {
     "data": {
      "text/html": [
       "<div>\n",
       "<style scoped>\n",
       "    .dataframe tbody tr th:only-of-type {\n",
       "        vertical-align: middle;\n",
       "    }\n",
       "\n",
       "    .dataframe tbody tr th {\n",
       "        vertical-align: top;\n",
       "    }\n",
       "\n",
       "    .dataframe thead th {\n",
       "        text-align: right;\n",
       "    }\n",
       "</style>\n",
       "<table border=\"1\" class=\"dataframe\">\n",
       "  <thead>\n",
       "    <tr style=\"text-align: right;\">\n",
       "      <th></th>\n",
       "      <th>Features</th>\n",
       "      <th>VIF</th>\n",
       "    </tr>\n",
       "  </thead>\n",
       "  <tbody>\n",
       "    <tr>\n",
       "      <th>0</th>\n",
       "      <td>const</td>\n",
       "      <td>25.69</td>\n",
       "    </tr>\n",
       "    <tr>\n",
       "      <th>4</th>\n",
       "      <td>atemp</td>\n",
       "      <td>1.17</td>\n",
       "    </tr>\n",
       "    <tr>\n",
       "      <th>1</th>\n",
       "      <td>season</td>\n",
       "      <td>1.16</td>\n",
       "    </tr>\n",
       "    <tr>\n",
       "      <th>5</th>\n",
       "      <td>windspeed</td>\n",
       "      <td>1.06</td>\n",
       "    </tr>\n",
       "    <tr>\n",
       "      <th>3</th>\n",
       "      <td>weathersit</td>\n",
       "      <td>1.02</td>\n",
       "    </tr>\n",
       "    <tr>\n",
       "      <th>2</th>\n",
       "      <td>yr</td>\n",
       "      <td>1.00</td>\n",
       "    </tr>\n",
       "  </tbody>\n",
       "</table>\n",
       "</div>"
      ],
      "text/plain": [
       "     Features    VIF\n",
       "0       const  25.69\n",
       "4       atemp   1.17\n",
       "1      season   1.16\n",
       "5   windspeed   1.06\n",
       "3  weathersit   1.02\n",
       "2          yr   1.00"
      ]
     },
     "execution_count": 147,
     "metadata": {},
     "output_type": "execute_result"
    }
   ],
   "source": [
    "# Calculate the VIFs for the new model\n",
    "from statsmodels.stats.outliers_influence import variance_inflation_factor\n",
    "\n",
    "vif = pd.DataFrame()\n",
    "X = X_train_new_2\n",
    "vif['Features'] = X.columns\n",
    "vif['VIF'] = [variance_inflation_factor(X.values, i) for i in range(X.shape[1])]\n",
    "vif['VIF'] = round(vif['VIF'], 2)\n",
    "vif = vif.sort_values(by = \"VIF\", ascending = False)\n",
    "vif"
   ]
  },
  {
   "cell_type": "markdown",
   "id": "46a0bb6e-568c-45d5-913b-6fb20e7e2349",
   "metadata": {},
   "source": [
    "**As we see that removing `hum` from model decreases our $R^{2}$ and adj.$R^{2}$**\n",
    "\n",
    "----"
   ]
  },
  {
   "cell_type": "markdown",
   "id": "bf7c1278-4768-48ae-8c43-3d452c2ae55a",
   "metadata": {},
   "source": [
    "We have seen in the model_2 that is LM_2 has a $R^{2}$ of 78.2 and adj.$R^{2}$ of 77.9. </br>\n",
    "Also, all the VIFs value are < 2.00\n",
    "\n",
    "##### Hence, we will select Lm_2 as our final model"
   ]
  },
  {
   "cell_type": "code",
   "execution_count": 156,
   "id": "cab83bc3-1b7d-4c9b-a1ef-5b585a4b4b5a",
   "metadata": {},
   "outputs": [
    {
     "name": "stdout",
     "output_type": "stream",
     "text": [
      "                            OLS Regression Results                            \n",
      "==============================================================================\n",
      "Dep. Variable:                    cnt   R-squared:                       0.782\n",
      "Model:                            OLS   Adj. R-squared:                  0.779\n",
      "Method:                 Least Squares   F-statistic:                     295.1\n",
      "Date:                Tue, 07 Jun 2022   Prob (F-statistic):          7.17e-186\n",
      "Time:                        00:38:32   Log-Likelihood:                -4809.1\n",
      "No. Observations:                 584   AIC:                             9634.\n",
      "Df Residuals:                     576   BIC:                             9669.\n",
      "Df Model:                           7                                         \n",
      "Covariance Type:            nonrobust                                         \n",
      "==============================================================================\n",
      "                 coef    std err          t      P>|t|      [0.025      0.975]\n",
      "------------------------------------------------------------------------------\n",
      "const       2057.4458    245.493      8.381      0.000    1575.275    2539.617\n",
      "season       403.2552     37.459     10.765      0.000     329.682     476.829\n",
      "yr          1987.6308     76.822     25.873      0.000    1836.745    2138.517\n",
      "holiday     -706.7609    214.879     -3.289      0.001   -1128.802    -284.720\n",
      "weathersit  -576.9138     90.024     -6.408      0.000    -753.729    -400.098\n",
      "atemp       4619.5740    196.434     23.517      0.000    4233.759    5005.389\n",
      "hum        -1125.5433    350.969     -3.207      0.001   -1814.878    -436.208\n",
      "windspeed  -1021.0092    218.037     -4.683      0.000   -1449.253    -592.765\n",
      "==============================================================================\n",
      "Omnibus:                       71.175   Durbin-Watson:                   2.016\n",
      "Prob(Omnibus):                  0.000   Jarque-Bera (JB):              140.096\n",
      "Skew:                          -0.716   Prob(JB):                     3.79e-31\n",
      "Kurtosis:                       4.925   Cond. No.                         36.3\n",
      "==============================================================================\n",
      "\n",
      "Notes:\n",
      "[1] Standard Errors assume that the covariance matrix of the errors is correctly specified.\n"
     ]
    }
   ],
   "source": [
    "print(lm_2.summary())"
   ]
  },
  {
   "cell_type": "markdown",
   "id": "0cbd5747-46fa-4fcb-8aa0-2fcc988b9cb2",
   "metadata": {},
   "source": [
    "## Residual analysis of our final model (Lm_2)"
   ]
  },
  {
   "cell_type": "code",
   "execution_count": 157,
   "id": "e61e9f09-fed2-41dd-b057-aadeb7861d1b",
   "metadata": {},
   "outputs": [],
   "source": [
    "y_train_price = lm.predict(X_train_lm)"
   ]
  },
  {
   "cell_type": "code",
   "execution_count": 158,
   "id": "8b8c7d42-0a45-42f2-aa3c-51c118ba51f4",
   "metadata": {},
   "outputs": [
    {
     "data": {
      "text/plain": [
       "Text(0.5, 0, 'Errors')"
      ]
     },
     "execution_count": 158,
     "metadata": {},
     "output_type": "execute_result"
    },
    {
     "data": {
      "image/png": "[encoded data removed]",
      "text/plain": [
       "<Figure size 432x288 with 1 Axes>"
      ]
     },
     "metadata": {},
     "output_type": "display_data"
    }
   ],
   "source": [
    "fig = plt.figure()\n",
    "sns.distplot((y_train - y_train_price), bins = 20)\n",
    "fig.suptitle('Error Terms', fontsize = 20)                  # Plot heading \n",
    "plt.xlabel('Errors', fontsize = 18)"
   ]
  },
  {
   "cell_type": "markdown",
   "id": "a6b3f0b7-6315-4741-aeda-85b794e6c22d",
   "metadata": {},
   "source": [
    "`Inference`\n",
    "\n",
    "As we can see that, error terms are normally distributed and the mean is around 0.\n",
    "\n",
    "Hence, our model is not violating any assumptions."
   ]
  },
  {
   "cell_type": "markdown",
   "id": "563df3e5-cb70-475a-bd88-c30edc709fb7",
   "metadata": {},
   "source": [
    "## Making Predictions\n"
   ]
  },
  {
   "cell_type": "code",
   "execution_count": 199,
   "id": "e4e859fd-2806-4a8b-9287-3759cec45e57",
   "metadata": {},
   "outputs": [],
   "source": [
    "bike_data_test[num_vars] = scaler.transform(bike_data_test[num_vars]) \n",
    "## Transfroming the test data set as same as the training dataset"
   ]
  },
  {
   "cell_type": "code",
   "execution_count": 161,
   "id": "46775b06-7044-4e13-bc07-7b66d4ae835a",
   "metadata": {},
   "outputs": [],
   "source": [
    "y_test = bike_data_test.pop('cnt')\n",
    "X_test = bike_data_test"
   ]
  },
  {
   "cell_type": "code",
   "execution_count": 172,
   "id": "348e797d-6c76-42ea-a96e-4318d2e53ee8",
   "metadata": {},
   "outputs": [],
   "source": [
    "# Now let's use our model to make predictions.\n",
    "X_train_new = X_train_rfe.drop([\"temp\",'const'], axis = 1)\n",
    "# Creating X_test_new dataframe by dropping variables from X_test\n",
    "X_test_new = X_test[X_train_new.columns]\n",
    "\n",
    "# Adding a constant variable \n",
    "X_test_new = sm.add_constant(X_test_new)"
   ]
  },
  {
   "cell_type": "code",
   "execution_count": 174,
   "id": "2d13827e-2049-4bd3-ada7-951e1f2f30ae",
   "metadata": {},
   "outputs": [],
   "source": [
    "y_pred = lm.predict(X_test_new)"
   ]
  },
  {
   "cell_type": "code",
   "execution_count": 181,
   "id": "aabc2273-0da4-4b8f-b466-0428c8f367a8",
   "metadata": {},
   "outputs": [
    {
     "data": {
      "text/plain": [
       "Text(0, 0.5, 'y_pred')"
      ]
     },
     "execution_count": 181,
     "metadata": {},
     "output_type": "execute_result"
    },
    {
     "data": {
      "image/png": "[encoded data removed]",
      "text/plain": [
       "<Figure size 720x432 with 1 Axes>"
      ]
     },
     "metadata": {},
     "output_type": "display_data"
    }
   ],
   "source": [
    "# Plotting y_test and y_pred to understand the spread.\n",
    "fig = plt.figure(figsize = [10,6])\n",
    "plt.scatter(y_test,y_pred)\n",
    "fig.suptitle('y_test vs y_pred', fontsize=20)              # Plot heading \n",
    "plt.xlabel('y_test', fontsize=18)                          # X-label\n",
    "plt.ylabel('y_pred', fontsize=16) "
   ]
  },
  {
   "cell_type": "code",
   "execution_count": 182,
   "id": "200f77c9-a0db-46df-8d83-9471264ba952",
   "metadata": {},
   "outputs": [
    {
     "data": {
      "text/plain": [
       "0.8370305845589141"
      ]
     },
     "execution_count": 182,
     "metadata": {},
     "output_type": "execute_result"
    }
   ],
   "source": [
    "from sklearn.metrics import r2_score\n",
    "r2_score(y_test, y_pred)"
   ]
  },
  {
   "cell_type": "markdown",
   "id": "cf3969b6-fde6-404a-8888-55a6249dda63",
   "metadata": {},
   "source": [
    "**So we get the following $R^2$ values:**\n",
    "\n",
    "- Train Dataset - 0.782\n",
    "- Test Dataset - 0.837"
   ]
  }
 ],
 "metadata": {
  "kernelspec": {
   "display_name": "Python 3 (ipykernel)",
   "language": "python",
   "name": "python3"
  },
  "language_info": {
   "codemirror_mode": {
    "name": "ipython",
    "version": 3
   },
   "file_extension": ".py",
   "mimetype": "text/x-python",
   "name": "python",
   "nbconvert_exporter": "python",
   "pygments_lexer": "ipython3",
   "version": "3.9.7"
  }
 },
 "nbformat": 4,
 "nbformat_minor": 5
}
